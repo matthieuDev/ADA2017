{
 "cells": [
  {
   "cell_type": "code",
   "execution_count": null,
   "metadata": {},
   "outputs": [],
   "source": [
    "import pandas as pd\n",
    "import json"
   ]
  },
  {
   "cell_type": "code",
   "execution_count": null,
   "metadata": {},
   "outputs": [],
   "source": [
    "#df_votations = pd.read_pickle('data/votations.pkl')\n",
    "#df_votations = df_votations.reset_index()\n",
    "#towns = [x for x in df_votations['Commune'].unique().tolist() if '......' in x]\n",
    "#towns = towns[:-15] #remove votes from abroad\n",
    "#len(towns)"
   ]
  },
  {
   "cell_type": "code",
   "execution_count": null,
   "metadata": {},
   "outputs": [],
   "source": [
    "df_temp_data = pd.read_pickle('data/data.pkl')\n",
    "towns = df_temp_data['Commune'].unique().tolist()\n",
    "len(towns)"
   ]
  },
  {
   "cell_type": "code",
   "execution_count": null,
   "metadata": {},
   "outputs": [],
   "source": [
    "town_geo_path = r'data/switzerland_borders/municipalities.geojson'\n",
    "geo_json_data = json.load(open(town_geo_path, encoding=\"utf8\"))\n",
    "towns_json = set([x['name'] for x in geo_json_data['features']])\n",
    "len(towns_json)"
   ]
  },
  {
   "cell_type": "code",
   "execution_count": null,
   "metadata": {},
   "outputs": [],
   "source": [
    "len(set(towns)-set(towns_json))   ,   len(set(towns_json)-set(towns))"
   ]
  },
  {
   "cell_type": "code",
   "execution_count": null,
   "metadata": {},
   "outputs": [],
   "source": []
  }
 ],
 "metadata": {
  "kernelspec": {
   "display_name": "Python 3",
   "language": "python",
   "name": "python3"
  },
  "language_info": {
   "codemirror_mode": {
    "name": "ipython",
    "version": 3
   },
   "file_extension": ".py",
   "mimetype": "text/x-python",
   "name": "python",
   "nbconvert_exporter": "python",
   "pygments_lexer": "ipython3",
   "version": "3.6.3"
  }
 },
 "nbformat": 4,
 "nbformat_minor": 2
}
