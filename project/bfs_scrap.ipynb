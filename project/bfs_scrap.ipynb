{
 "cells": [
  {
   "cell_type": "markdown",
   "metadata": {},
   "source": [
    "The notebook has been used to scrap the votation data from the BFS website as describe in the readme file."
   ]
  },
  {
   "cell_type": "code",
   "execution_count": null,
   "metadata": {
    "collapsed": true
   },
   "outputs": [],
   "source": [
    "import requests\n",
    "import pandas as pd\n",
    "from bs4 import BeautifulSoup\n",
    "from tqdm import tqdm_notebook"
   ]
  },
  {
   "cell_type": "code",
   "execution_count": null,
   "metadata": {
    "collapsed": true
   },
   "outputs": [],
   "source": [
    "def find_idx_for_key(body, key):\n",
    "    for idx, item in enumerate(body): \n",
    "        if item[0] == key: \n",
    "            return idx"
   ]
  },
  {
   "cell_type": "markdown",
   "metadata": {},
   "source": [
    "# Votes"
   ]
  },
  {
   "cell_type": "markdown",
   "metadata": {},
   "source": [
    "We saved the body of a post request made from URL (see below). This post request is particular as it has all the values selected in the first selector, **only one** in the second and all the values in the third. We are forced to make multiple post requests as otherwise we exceed the limit for the resulting table size.\n",
    "\n",
    "Below we open the save post request and process it to have a valid body to use later with _requests_."
   ]
  },
  {
   "cell_type": "code",
   "execution_count": null,
   "metadata": {
    "collapsed": true
   },
   "outputs": [],
   "source": [
    "#data = body of post request with all values of first and third picker + 1st value of 2nd picker (use postman)\n",
    "with(open('post_request_votes.txt', \"rb\")) as f:\n",
    "    body = [tuple(x.decode().strip().split(':')) for x in f.readlines()]"
   ]
  },
  {
   "cell_type": "markdown",
   "metadata": {},
   "source": [
    "Here we find the key id of the only variable we need to change in the post request between two post request. It corresponds to the value selected in the second selector."
   ]
  },
  {
   "cell_type": "code",
   "execution_count": null,
   "metadata": {
    "collapsed": true
   },
   "outputs": [],
   "source": [
    "#find index of the variable in the body\n",
    "key = 'ctl00$ContentPlaceHolderMain$VariableSelector1$VariableSelector1$VariableSelectorValueSelectRepeater$ctl02$VariableValueSelect$VariableValueSelect$ValuesListBox'\n",
    "idx_key = find_idx_for_key(body, key)"
   ]
  },
  {
   "cell_type": "markdown",
   "metadata": {},
   "source": [
    "In order to change the value of the variable isolated just above, we need to know all the valid options it can take."
   ]
  },
  {
   "cell_type": "code",
   "execution_count": null,
   "metadata": {
    "collapsed": true
   },
   "outputs": [],
   "source": [
    "#find all options for second picker\n",
    "URL = \"https://www.pxweb.bfs.admin.ch/Selection.aspx?px_language=fr&px_db=px-x-1703030000_101&px_tableid=px-x-1703030000_101/px-x-1703030000_101.px&px_type=PX\"\n",
    "soup = BeautifulSoup(requests.get(URL).text, 'html.parser')\n",
    "options = [o.attrs['value'] for o in soup.select('#ctl00_ContentPlaceHolderMain_VariableSelector1_VariableSelector1_VariableSelectorValueSelectRepeater_ctl02_VariableValueSelect_VariableValueSelect_ValuesListBox option')]\n",
    "len(options)"
   ]
  },
  {
   "cell_type": "markdown",
   "metadata": {},
   "source": [
    "Three variables in the body of the post request need to be updated (only once). These variables correspond to session values. However, as we cold-stored our post request the session has expired. We can find the three variables in the html resulting from the GET."
   ]
  },
  {
   "cell_type": "code",
   "execution_count": null,
   "metadata": {
    "collapsed": true
   },
   "outputs": [],
   "source": [
    "# GET, params saving\n",
    "r = requests.get(URL).text\n",
    "soup = BeautifulSoup(r, 'html.parser')\n",
    "\n",
    "for elem in ['__EVENTVALIDATION', '__VIEWSTATE', '__VIEWSTATEGENERATOR']:\n",
    "    body[find_idx_for_key(body, elem)] = (elem, soup.find(id=elem).attrs['value'])"
   ]
  },
  {
   "cell_type": "markdown",
   "metadata": {},
   "source": [
    "Now we can simply iterates on the values of the second selector and perform the post request with the updated variable in the body at each iteration. The interesting part for us in the POST request is the table which is contain in a HTML table. Thus, we can easily use *pd.read_table* to extract it. All the resulting dataframes are concatenated together before the set the index as the _commune_ and the _votation_."
   ]
  },
  {
   "cell_type": "code",
   "execution_count": null,
   "metadata": {
    "collapsed": true
   },
   "outputs": [],
   "source": [
    "#Note URL_post != URL\n",
    "URL_post = 'https://www.pxweb.bfs.admin.ch/Selection.aspx?px_language=fr&px_db=px-x-1703030000_101&px_tableid=px-x-1703030000_101%2fpx-x-1703030000_101.px&px_type=PX'\n",
    "\n",
    "df = pd.DataFrame()\n",
    "\n",
    "for o in tqdm_notebook(options):\n",
    "    \n",
    "    #Change the value of the variable in the body of the post request\n",
    "    body[idx_key] = (key, o)\n",
    "    \n",
    "    #Make the post request\n",
    "    r = requests.post(URL_post, data=body)\n",
    "    \n",
    "    #Build the temporary dataframe corresponding to one votation\n",
    "    df_tmp = pd.read_html(r.text, thousands=' ', decimal=',', na_values=['...'])[0]\n",
    "    df_tmp.columns = df_tmp.columns.droplevel()\n",
    "    df_tmp.columns = ['Commune', 'Votation'] + df_tmp.columns[1:-1].tolist()\n",
    "    \n",
    "    #Concat with the temporary dataframe with the dataframe containing all the votations\n",
    "    df = pd.concat([df, df_tmp])\n",
    "    \n",
    "df = df.sort_index()\n",
    "df = df.set_index(['Commune', 'Votation'])\n",
    "\n",
    "df"
   ]
  },
  {
   "cell_type": "code",
   "execution_count": null,
   "metadata": {
    "collapsed": true
   },
   "outputs": [],
   "source": [
    "df.to_pickle(\"data/votations.pkl\")"
   ]
  }
 ],
 "metadata": {
  "kernelspec": {
   "display_name": "Python 3",
   "language": "python",
   "name": "python3"
  },
  "language_info": {
   "codemirror_mode": {
    "name": "ipython",
    "version": 3
   },
   "file_extension": ".py",
   "mimetype": "text/x-python",
   "name": "python",
   "nbconvert_exporter": "python",
   "pygments_lexer": "ipython3",
   "version": "3.6.1"
  }
 },
 "nbformat": 4,
 "nbformat_minor": 2
}
