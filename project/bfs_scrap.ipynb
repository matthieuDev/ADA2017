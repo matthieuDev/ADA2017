{
 "cells": [
  {
   "cell_type": "code",
   "execution_count": null,
   "metadata": {
    "collapsed": true
   },
   "outputs": [],
   "source": [
    "import requests\n",
    "import pandas as pd\n",
    "from bs4 import BeautifulSoup\n",
    "from tqdm import tqdm_notebook"
   ]
  },
  {
   "cell_type": "code",
   "execution_count": null,
   "metadata": {
    "collapsed": true
   },
   "outputs": [],
   "source": [
    "def find_idx_for_key(body, key):\n",
    "    for idx, item in enumerate(body): \n",
    "        if item[0] == key: \n",
    "            return idx"
   ]
  },
  {
   "cell_type": "markdown",
   "metadata": {},
   "source": [
    "# Votes"
   ]
  },
  {
   "cell_type": "code",
   "execution_count": null,
   "metadata": {
    "collapsed": true
   },
   "outputs": [],
   "source": [
    "#data = body of post request with all values of first and third picker + 1st value of 2nd picker (use postman)\n",
    "with(open('post_request_votes.txt', \"rb\")) as f:\n",
    "    body = [tuple(x.decode().strip().split(':')) for x in f.readlines()]"
   ]
  },
  {
   "cell_type": "code",
   "execution_count": null,
   "metadata": {
    "collapsed": true
   },
   "outputs": [],
   "source": [
    "#find index of the variable in the body\n",
    "key = 'ctl00$ContentPlaceHolderMain$VariableSelector1$VariableSelector1$VariableSelectorValueSelectRepeater$ctl02$VariableValueSelect$VariableValueSelect$ValuesListBox'\n",
    "idx_key = find_idx_for_key(body, key)"
   ]
  },
  {
   "cell_type": "code",
   "execution_count": null,
   "metadata": {},
   "outputs": [],
   "source": [
    "#find all options for second picker\n",
    "URL = \"https://www.pxweb.bfs.admin.ch/Selection.aspx?px_language=fr&px_db=px-x-1703030000_101&px_tableid=px-x-1703030000_101/px-x-1703030000_101.px&px_type=PX\"\n",
    "soup = BeautifulSoup(requests.get(URL).text, 'html.parser')\n",
    "options = [o.attrs['value'] for o in soup.select('#ctl00_ContentPlaceHolderMain_VariableSelector1_VariableSelector1_VariableSelectorValueSelectRepeater_ctl02_VariableValueSelect_VariableValueSelect_ValuesListBox option')]\n",
    "len(options)"
   ]
  },
  {
   "cell_type": "code",
   "execution_count": null,
   "metadata": {
    "collapsed": true
   },
   "outputs": [],
   "source": [
    "# GET, params saving\n",
    "r = requests.get(URL).text\n",
    "soup = BeautifulSoup(r, 'html.parser')\n",
    "\n",
    "for elem in ['__EVENTVALIDATION', '__VIEWSTATE', '__VIEWSTATEGENERATOR']:\n",
    "    body[find_idx_for_key(body, elem)] = (elem, soup.find(id=elem).attrs['value'])"
   ]
  },
  {
   "cell_type": "code",
   "execution_count": null,
   "metadata": {},
   "outputs": [],
   "source": [
    "#Note URL_post != URL\n",
    "URL_post = 'https://www.pxweb.bfs.admin.ch/Selection.aspx?px_language=fr&px_db=px-x-1703030000_101&px_tableid=px-x-1703030000_101%2fpx-x-1703030000_101.px&px_type=PX'\n",
    "\n",
    "df = pd.DataFrame()\n",
    "\n",
    "for o in tqdm_notebook(options):\n",
    "    \n",
    "    #Change the value of the variable in the body of the post request\n",
    "    body[idx_key] = (key, o)\n",
    "    \n",
    "    #Make the post request\n",
    "    r = requests.post(URL_post, data=body)\n",
    "    \n",
    "    #Build the temporary dataframe corresponding to one votation\n",
    "    df_tmp = pd.read_html(r.text, thousands=' ', decimal=',', na_values=['...'])[0]\n",
    "    df_tmp.columns = df_tmp.columns.droplevel()\n",
    "    df_tmp.columns = ['Commune', 'Votation'] + df_tmp.columns[1:-1].tolist()\n",
    "    \n",
    "    #Concat with the temporary dataframe with the dataframe containing all the votations\n",
    "    df = pd.concat([df, df_tmp])\n",
    "    \n",
    "df = df.sort_index()\n",
    "df = df.set_index(['Commune', 'Votation'])\n",
    "\n",
    "df"
   ]
  },
  {
   "cell_type": "code",
   "execution_count": null,
   "metadata": {
    "collapsed": true
   },
   "outputs": [],
   "source": [
    "df.to_pickle(\"data/votations.pkl\")"
   ]
  },
  {
   "cell_type": "markdown",
   "metadata": {},
   "source": [
    "# Themes"
   ]
  },
  {
   "cell_type": "code",
   "execution_count": null,
   "metadata": {
    "collapsed": true
   },
   "outputs": [],
   "source": [
    "#data = body of post request with all values of first and third picker + 1st value of 2nd picker (use postman)\n",
    "with(open('post_request_themes.txt', \"rb\")) as f:\n",
    "    body = [tuple(x.decode().strip().split(':')) for x in f.readlines()]"
   ]
  },
  {
   "cell_type": "code",
   "execution_count": null,
   "metadata": {
    "collapsed": true
   },
   "outputs": [],
   "source": [
    "#find index of the variable in the body\n",
    "key = #incomplete\n",
    "idx_key = find_idx_for_key(body, key)"
   ]
  },
  {
   "cell_type": "code",
   "execution_count": null,
   "metadata": {},
   "outputs": [],
   "source": [
    "#find all options for second picker\n",
    "URL = \"https://www.pxweb.bfs.admin.ch/Selection.aspx?px_language=fr&px_db=px-x-1703010000_103&px_tableid=px-x-1703010000_103\\px-x-1703010000_103.px&px_type=PX\"\n",
    "soup = BeautifulSoup(requests.get(URL).text, 'html.parser')\n",
    "options = [o.attrs['value'] for o in soup.select('#ctl00_ContentPlaceHolderMain_VariableSelector1_VariableSelector1_VariableSelectorValueSelectRepeater_ctl02_VariableValueSelect_VariableValueSelect_ValuesListBox option')]\n",
    "len(options)"
   ]
  },
  {
   "cell_type": "code",
   "execution_count": null,
   "metadata": {
    "collapsed": true
   },
   "outputs": [],
   "source": [
    "# GET, params saving\n",
    "r = requests.get(URL).text\n",
    "soup = BeautifulSoup(r, 'html.parser')\n",
    "\n",
    "for elem in ['__EVENTVALIDATION', '__VIEWSTATE', '__VIEWSTATEGENERATOR']:\n",
    "    body[find_idx_for_key(body, elem)] = (elem, soup.find(id=elem).attrs['value'])"
   ]
  },
  {
   "cell_type": "code",
   "execution_count": null,
   "metadata": {},
   "outputs": [],
   "source": [
    "#get the data"
   ]
  },
  {
   "cell_type": "code",
   "execution_count": null,
   "metadata": {
    "collapsed": true
   },
   "outputs": [],
   "source": [
    "df.to_pickle(\"data/themes.pkl\")"
   ]
  }
 ],
 "metadata": {
  "kernelspec": {
   "display_name": "Python 3",
   "language": "python",
   "name": "python3"
  },
  "language_info": {
   "codemirror_mode": {
    "name": "ipython",
    "version": 3
   },
   "file_extension": ".py",
   "mimetype": "text/x-python",
   "name": "python",
   "nbconvert_exporter": "python",
   "pygments_lexer": "ipython3",
   "version": "3.6.1"
  }
 },
 "nbformat": 4,
 "nbformat_minor": 2
}
