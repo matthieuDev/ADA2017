{
 "cells": [
  {
   "cell_type": "markdown",
   "metadata": {},
   "source": [
    "The work done till this second milestone was mainly to get our data and clean them. As we do not use a provided dataset, collecting and cleaning data take a tremendeous amount of time."
   ]
  },
  {
   "cell_type": "code",
   "execution_count": 1,
   "metadata": {},
   "outputs": [],
   "source": [
    "import pandas as pd\n",
    "import numpy as np\n",
    "from difflib import SequenceMatcher\n",
    "import json\n",
    "import folium"
   ]
  },
  {
   "cell_type": "markdown",
   "metadata": {},
   "source": [
    "### Dominating language in towns"
   ]
  },
  {
   "cell_type": "markdown",
   "metadata": {},
   "source": [
    "To be able to prove that a Rustigraben exists, we need together with the votation results the language spoken in each town. We find such data [here](https://www.atlas.bfs.admin.ch/maps/13/fr/12401_229_228_227/20443.html). The raw values downloaded from there can be found in **data/3007\\_Langues\\_nationales\\_dominantes\\_dans\\_les\\_communes\\_en\\_2000\\_(fr)**. It gives the dominating language for each town in 2000. The value each town get is [Language]: [(medium)/(strong)] or \"No domination\" (note that these values are in French and language can be either one of the fourth national language, i.e, 'French', 'German', 'Italian', or 'Romansh').\n",
    "\n",
    "We had a lot of missmatches between the town names in the votations dataframe and the file above. The reason is that mergers between multiple town have been encouraged from the beginning of this century. While the votation data have been nicely adapted susequently by the BFS, it is obviously not the case for the last language survey performed in 2000. We manually added the merge in the file, resulting in **data/'data/languages_2000.xlsx'**"
   ]
  },
  {
   "cell_type": "code",
   "execution_count": 20,
   "metadata": {},
   "outputs": [
    {
     "data": {
      "text/html": [
       "<div>\n",
       "<style scoped>\n",
       "    .dataframe tbody tr th:only-of-type {\n",
       "        vertical-align: middle;\n",
       "    }\n",
       "\n",
       "    .dataframe tbody tr th {\n",
       "        vertical-align: top;\n",
       "    }\n",
       "\n",
       "    .dataframe thead th {\n",
       "        text-align: right;\n",
       "    }\n",
       "</style>\n",
       "<table border=\"1\" class=\"dataframe\">\n",
       "  <thead>\n",
       "    <tr style=\"text-align: right;\">\n",
       "      <th></th>\n",
       "      <th>Regionsname</th>\n",
       "      <th>Langue nationale dominante</th>\n",
       "    </tr>\n",
       "  </thead>\n",
       "  <tbody>\n",
       "    <tr>\n",
       "      <th>0</th>\n",
       "      <td>Aeugst am Albis</td>\n",
       "      <td>Allemand: forte</td>\n",
       "    </tr>\n",
       "    <tr>\n",
       "      <th>1</th>\n",
       "      <td>Affoltern am Albis</td>\n",
       "      <td>Allemand: moyenne</td>\n",
       "    </tr>\n",
       "    <tr>\n",
       "      <th>2</th>\n",
       "      <td>Bonstetten</td>\n",
       "      <td>Allemand: forte</td>\n",
       "    </tr>\n",
       "    <tr>\n",
       "      <th>3</th>\n",
       "      <td>Hausen am Albis</td>\n",
       "      <td>Allemand: forte</td>\n",
       "    </tr>\n",
       "    <tr>\n",
       "      <th>4</th>\n",
       "      <td>Hedingen</td>\n",
       "      <td>Allemand: forte</td>\n",
       "    </tr>\n",
       "  </tbody>\n",
       "</table>\n",
       "</div>"
      ],
      "text/plain": [
       "          Regionsname Langue nationale dominante\n",
       "0     Aeugst am Albis            Allemand: forte\n",
       "1  Affoltern am Albis          Allemand: moyenne\n",
       "2          Bonstetten            Allemand: forte\n",
       "3     Hausen am Albis            Allemand: forte\n",
       "4            Hedingen            Allemand: forte"
      ]
     },
     "execution_count": 20,
     "metadata": {},
     "output_type": "execute_result"
    }
   ],
   "source": [
    "languages = pd.read_excel('data/languages_2000.xlsx', skiprows=1, skip_footer=11)\n",
    "languages.drop(['Regions-ID'], axis=1, inplace=True)\n",
    "languages.head()"
   ]
  },
  {
   "cell_type": "code",
   "execution_count": 22,
   "metadata": {},
   "outputs": [],
   "source": [
    "#loading votation with only town as index and extracting list of towns\n",
    "df_votation = pd.read_pickle('data/data.pkl')\n",
    "towns_votations = set(df_votation['Commune'])"
   ]
  },
  {
   "cell_type": "code",
   "execution_count": 23,
   "metadata": {},
   "outputs": [],
   "source": [
    "#all unique town in the language dataset  \n",
    "towns_languages = set(languages['Regionsname'])"
   ]
  },
  {
   "cell_type": "markdown",
   "metadata": {},
   "source": [
    "Now lets look at the difference between the two sets:"
   ]
  },
  {
   "cell_type": "code",
   "execution_count": 25,
   "metadata": {},
   "outputs": [
    {
     "data": {
      "text/plain": [
       "{'Büren an der Aare-Meienried',\n",
       " 'Höchstetten-Hellsau',\n",
       " 'Kirchdorf (BE)-Jaberg',\n",
       " 'Mötschwil-Rüti bei Lyssach',\n",
       " 'Münchenwiler-Clavaleyres',\n",
       " 'Wald (BE)-Niedermuhlern',\n",
       " 'Wiggiswil-Deisswil bei Münchenbuchsee'}"
      ]
     },
     "execution_count": 25,
     "metadata": {},
     "output_type": "execute_result"
    }
   ],
   "source": [
    "diff1 = towns_votations - towns_languages\n",
    "len(diff1)\n",
    "diff1"
   ]
  },
  {
   "cell_type": "markdown",
   "metadata": {},
   "source": [
    "#### --> 100% match between towns in votations and towns in languages after a tough job!"
   ]
  },
  {
   "cell_type": "markdown",
   "metadata": {},
   "source": [
    "We tried to draw a map of the languages with folium but without success. However, the code we tried to run can be seen in the notebook 'parse_languages'. You can also find in that notebook some helpers to perform the manual matching of the towns name in the language file."
   ]
  },
  {
   "cell_type": "markdown",
   "metadata": {},
   "source": [
    "### Map by theme"
   ]
  },
  {
   "cell_type": "markdown",
   "metadata": {},
   "source": [
    "This part creates maps for each that show the percentage of agreement for each thematique."
   ]
  },
  {
   "cell_type": "markdown",
   "metadata": {},
   "source": [
    "Load the data for the % by commune and for the the theme of each votation."
   ]
  },
  {
   "cell_type": "code",
   "execution_count": 27,
   "metadata": {},
   "outputs": [],
   "source": [
    "data = pd.read_pickle(\"data/data.pkl\")\n",
    "thematique = pd.read_pickle(\"data/Thématique.pkl\")"
   ]
  },
  {
   "cell_type": "markdown",
   "metadata": {},
   "source": [
    "load the json to create the commune on the map, and create the lsit of the commune in the json. "
   ]
  },
  {
   "cell_type": "code",
   "execution_count": 28,
   "metadata": {},
   "outputs": [],
   "source": [
    "switzerland_coord = [46.765213, 8.252444]\n",
    "town_geo_path = r'data/switzerland_borders/municipalities_no_urnes.geojson'\n",
    "geo_json_data = json.load(open(town_geo_path, encoding=\"utf8\"))\n",
    "commune = [x['name']  for x in geo_json_data['features']]"
   ]
  },
  {
   "cell_type": "markdown",
   "metadata": {},
   "source": [
    "We merge the 2 dataframes so that we have for each votation and each commune the theme and the percentage of yes. We only takes 'Thématique','Commune' and 'Oui en %' because it will be the only usefull information for later (Votation is no longer use full once we managed to merge)\n",
    "\n",
    "We also make sure thatthere is in the dtaframes only commune that are in the json."
   ]
  },
  {
   "cell_type": "code",
   "execution_count": 29,
   "metadata": {},
   "outputs": [
    {
     "data": {
      "text/html": [
       "<div>\n",
       "<style scoped>\n",
       "    .dataframe tbody tr th:only-of-type {\n",
       "        vertical-align: middle;\n",
       "    }\n",
       "\n",
       "    .dataframe tbody tr th {\n",
       "        vertical-align: top;\n",
       "    }\n",
       "\n",
       "    .dataframe thead th {\n",
       "        text-align: right;\n",
       "    }\n",
       "</style>\n",
       "<table border=\"1\" class=\"dataframe\">\n",
       "  <thead>\n",
       "    <tr style=\"text-align: right;\">\n",
       "      <th></th>\n",
       "      <th>Thématique</th>\n",
       "      <th>Commune</th>\n",
       "      <th>Oui en %</th>\n",
       "    </tr>\n",
       "  </thead>\n",
       "  <tbody>\n",
       "    <tr>\n",
       "      <th>0</th>\n",
       "      <td>Politique sociale</td>\n",
       "      <td>Aeugst am Albis</td>\n",
       "      <td>34.9</td>\n",
       "    </tr>\n",
       "    <tr>\n",
       "      <th>1</th>\n",
       "      <td>Politique sociale</td>\n",
       "      <td>Affoltern am Albis</td>\n",
       "      <td>30.3</td>\n",
       "    </tr>\n",
       "    <tr>\n",
       "      <th>2</th>\n",
       "      <td>Politique sociale</td>\n",
       "      <td>Bonstetten</td>\n",
       "      <td>34.3</td>\n",
       "    </tr>\n",
       "    <tr>\n",
       "      <th>3</th>\n",
       "      <td>Politique sociale</td>\n",
       "      <td>Hausen am Albis</td>\n",
       "      <td>35.5</td>\n",
       "    </tr>\n",
       "    <tr>\n",
       "      <th>4</th>\n",
       "      <td>Politique sociale</td>\n",
       "      <td>Hedingen</td>\n",
       "      <td>31.1</td>\n",
       "    </tr>\n",
       "  </tbody>\n",
       "</table>\n",
       "</div>"
      ],
      "text/plain": [
       "          Thématique             Commune  Oui en %\n",
       "0  Politique sociale     Aeugst am Albis      34.9\n",
       "1  Politique sociale  Affoltern am Albis      30.3\n",
       "2  Politique sociale          Bonstetten      34.3\n",
       "3  Politique sociale     Hausen am Albis      35.5\n",
       "4  Politique sociale            Hedingen      31.1"
      ]
     },
     "execution_count": 29,
     "metadata": {},
     "output_type": "execute_result"
    }
   ],
   "source": [
    "data_t = data.merge(thematique , on = 'Votation')[['Thématique','Commune','Oui en %']]\n",
    "\n",
    "data_t = data_t[data_t['Commune'].isin(commune)]\n",
    "data_t.head()"
   ]
  },
  {
   "cell_type": "markdown",
   "metadata": {},
   "source": [
    "We group the data by theme, and for each one we create a map showing how much people voted yes. We then save it into an html."
   ]
  },
  {
   "cell_type": "code",
   "execution_count": 31,
   "metadata": {},
   "outputs": [],
   "source": [
    "\n",
    "for theme, data_theme in data_t.groupby('Thématique') :\n",
    "    data_theme = data_theme.groupby('Commune', as_index  = False).mean()\n",
    "    map1 = folium.Map(location=switzerland_coord, zoom_start=8)\n",
    "    map1.choropleth(geo_data = geo_json_data, \\\n",
    "                                    data = data_theme, \\\n",
    "                                    columns = ['Commune', 'Oui en %'], \\\n",
    "                                    key_on = 'feature.name', \\\n",
    "                                    fill_color = 'RdYlGn', \\\n",
    "                                    fill_opacity = 0.7, \\\n",
    "                                    line_opacity = 0.2, \\\n",
    "                                    legend_name = 'yes in % given to the theme ' + theme)\n",
    "    \n",
    "    map1.save('data/map_theme/map_'+theme+'.html')"
   ]
  },
  {
   "cell_type": "markdown",
   "metadata": {
    "collapsed": true
   },
   "source": [
    "Now we will randomly take 3 theme to make an alysis (we took only 3 but the anylisis can be the same on the other maps.\n",
    "\n",
    "So we will look at the ['Economic'](data/map_theme/map_Economie.html) theme, ['Politique de securite'](data/map_theme/map_Politique de sécurité.html) theme and the ['Régime politique'](data/map_theme/map_Régime politique.html) :    \n",
    "In each one of them we can clearly see a large strip beggining in the valais and ending at Vaduz. We can see in this the Röstigraben, but at the same time the north part and east part of the deutsch part of Switzerland are not as different as the strip, so even if we can put forward the split between the freanch part and deutsch part, it is possible that the Röstigraben is not the only explanationfor those differences."
   ]
  },
  {
   "cell_type": "markdown",
   "metadata": {},
   "source": [
    "### Map by recommendation"
   ]
  },
  {
   "cell_type": "markdown",
   "metadata": {},
   "source": [
    "This notebook is for using the proposition of vote of each poilitical party to create a visual representation of how much each party is listened and try to see which region vote more for each party."
   ]
  },
  {
   "cell_type": "markdown",
   "metadata": {},
   "source": [
    "Prepare the map :    \n",
    "get the json to do the border   \n",
    "get all the commune name     \n",
    "only keep the value that ar ein the json."
   ]
  },
  {
   "cell_type": "code",
   "execution_count": 32,
   "metadata": {},
   "outputs": [
    {
     "data": {
      "text/html": [
       "<div>\n",
       "<style scoped>\n",
       "    .dataframe tbody tr th:only-of-type {\n",
       "        vertical-align: middle;\n",
       "    }\n",
       "\n",
       "    .dataframe tbody tr th {\n",
       "        vertical-align: top;\n",
       "    }\n",
       "\n",
       "    .dataframe thead th {\n",
       "        text-align: right;\n",
       "    }\n",
       "</style>\n",
       "<table border=\"1\" class=\"dataframe\">\n",
       "  <thead>\n",
       "    <tr style=\"text-align: right;\">\n",
       "      <th></th>\n",
       "      <th>Commune</th>\n",
       "      <th>Votation</th>\n",
       "      <th>Electeurs inscrits</th>\n",
       "      <th>Bulletins rentrés</th>\n",
       "      <th>Participation en %</th>\n",
       "      <th>Bulletins valables</th>\n",
       "      <th>Oui</th>\n",
       "      <th>Non</th>\n",
       "      <th>Oui en %</th>\n",
       "      <th>District</th>\n",
       "      <th>...</th>\n",
       "      <th>PLS</th>\n",
       "      <th>POCH</th>\n",
       "      <th>PRD</th>\n",
       "      <th>PS</th>\n",
       "      <th>PSL</th>\n",
       "      <th>PST</th>\n",
       "      <th>PVL</th>\n",
       "      <th>Rep.</th>\n",
       "      <th>UDC</th>\n",
       "      <th>UDF</th>\n",
       "    </tr>\n",
       "  </thead>\n",
       "  <tbody>\n",
       "    <tr>\n",
       "      <th>0</th>\n",
       "      <td>Aeugst am Albis</td>\n",
       "      <td>29.11.1998 Initiative Droleg</td>\n",
       "      <td>1070.0</td>\n",
       "      <td>487.0</td>\n",
       "      <td>45.5</td>\n",
       "      <td>478.0</td>\n",
       "      <td>167.0</td>\n",
       "      <td>311.0</td>\n",
       "      <td>34.9</td>\n",
       "      <td>Affoltern</td>\n",
       "      <td>...</td>\n",
       "      <td>-1</td>\n",
       "      <td>0</td>\n",
       "      <td>-1</td>\n",
       "      <td>1</td>\n",
       "      <td>-1</td>\n",
       "      <td>1</td>\n",
       "      <td>0</td>\n",
       "      <td>0</td>\n",
       "      <td>-1</td>\n",
       "      <td>-1</td>\n",
       "    </tr>\n",
       "    <tr>\n",
       "      <th>1</th>\n",
       "      <td>Affoltern am Albis</td>\n",
       "      <td>29.11.1998 Initiative Droleg</td>\n",
       "      <td>5729.0</td>\n",
       "      <td>2286.0</td>\n",
       "      <td>39.9</td>\n",
       "      <td>2236.0</td>\n",
       "      <td>678.0</td>\n",
       "      <td>1558.0</td>\n",
       "      <td>30.3</td>\n",
       "      <td>Affoltern</td>\n",
       "      <td>...</td>\n",
       "      <td>-1</td>\n",
       "      <td>0</td>\n",
       "      <td>-1</td>\n",
       "      <td>1</td>\n",
       "      <td>-1</td>\n",
       "      <td>1</td>\n",
       "      <td>0</td>\n",
       "      <td>0</td>\n",
       "      <td>-1</td>\n",
       "      <td>-1</td>\n",
       "    </tr>\n",
       "    <tr>\n",
       "      <th>2</th>\n",
       "      <td>Bonstetten</td>\n",
       "      <td>29.11.1998 Initiative Droleg</td>\n",
       "      <td>2596.0</td>\n",
       "      <td>1063.0</td>\n",
       "      <td>40.9</td>\n",
       "      <td>1045.0</td>\n",
       "      <td>358.0</td>\n",
       "      <td>687.0</td>\n",
       "      <td>34.3</td>\n",
       "      <td>Affoltern</td>\n",
       "      <td>...</td>\n",
       "      <td>-1</td>\n",
       "      <td>0</td>\n",
       "      <td>-1</td>\n",
       "      <td>1</td>\n",
       "      <td>-1</td>\n",
       "      <td>1</td>\n",
       "      <td>0</td>\n",
       "      <td>0</td>\n",
       "      <td>-1</td>\n",
       "      <td>-1</td>\n",
       "    </tr>\n",
       "    <tr>\n",
       "      <th>3</th>\n",
       "      <td>Hausen am Albis</td>\n",
       "      <td>29.11.1998 Initiative Droleg</td>\n",
       "      <td>2081.0</td>\n",
       "      <td>807.0</td>\n",
       "      <td>38.8</td>\n",
       "      <td>792.0</td>\n",
       "      <td>281.0</td>\n",
       "      <td>511.0</td>\n",
       "      <td>35.5</td>\n",
       "      <td>Affoltern</td>\n",
       "      <td>...</td>\n",
       "      <td>-1</td>\n",
       "      <td>0</td>\n",
       "      <td>-1</td>\n",
       "      <td>1</td>\n",
       "      <td>-1</td>\n",
       "      <td>1</td>\n",
       "      <td>0</td>\n",
       "      <td>0</td>\n",
       "      <td>-1</td>\n",
       "      <td>-1</td>\n",
       "    </tr>\n",
       "    <tr>\n",
       "      <th>4</th>\n",
       "      <td>Hedingen</td>\n",
       "      <td>29.11.1998 Initiative Droleg</td>\n",
       "      <td>1858.0</td>\n",
       "      <td>810.0</td>\n",
       "      <td>43.6</td>\n",
       "      <td>791.0</td>\n",
       "      <td>246.0</td>\n",
       "      <td>545.0</td>\n",
       "      <td>31.1</td>\n",
       "      <td>Affoltern</td>\n",
       "      <td>...</td>\n",
       "      <td>-1</td>\n",
       "      <td>0</td>\n",
       "      <td>-1</td>\n",
       "      <td>1</td>\n",
       "      <td>-1</td>\n",
       "      <td>1</td>\n",
       "      <td>0</td>\n",
       "      <td>0</td>\n",
       "      <td>-1</td>\n",
       "      <td>-1</td>\n",
       "    </tr>\n",
       "  </tbody>\n",
       "</table>\n",
       "<p>5 rows × 31 columns</p>\n",
       "</div>"
      ],
      "text/plain": [
       "              Commune                      Votation  Electeurs inscrits  \\\n",
       "0     Aeugst am Albis  29.11.1998 Initiative Droleg              1070.0   \n",
       "1  Affoltern am Albis  29.11.1998 Initiative Droleg              5729.0   \n",
       "2          Bonstetten  29.11.1998 Initiative Droleg              2596.0   \n",
       "3     Hausen am Albis  29.11.1998 Initiative Droleg              2081.0   \n",
       "4            Hedingen  29.11.1998 Initiative Droleg              1858.0   \n",
       "\n",
       "   Bulletins rentrés  Participation en %  Bulletins valables    Oui     Non  \\\n",
       "0              487.0                45.5               478.0  167.0   311.0   \n",
       "1             2286.0                39.9              2236.0  678.0  1558.0   \n",
       "2             1063.0                40.9              1045.0  358.0   687.0   \n",
       "3              807.0                38.8               792.0  281.0   511.0   \n",
       "4              810.0                43.6               791.0  246.0   545.0   \n",
       "\n",
       "   Oui en %   District ... PLS POCH PRD PS PSL PST PVL Rep. UDC UDF  \n",
       "0      34.9  Affoltern ...  -1    0  -1  1  -1   1   0    0  -1  -1  \n",
       "1      30.3  Affoltern ...  -1    0  -1  1  -1   1   0    0  -1  -1  \n",
       "2      34.3  Affoltern ...  -1    0  -1  1  -1   1   0    0  -1  -1  \n",
       "3      35.5  Affoltern ...  -1    0  -1  1  -1   1   0    0  -1  -1  \n",
       "4      31.1  Affoltern ...  -1    0  -1  1  -1   1   0    0  -1  -1  \n",
       "\n",
       "[5 rows x 31 columns]"
      ]
     },
     "execution_count": 32,
     "metadata": {},
     "output_type": "execute_result"
    }
   ],
   "source": [
    "df = pd.read_pickle(\"data/data.pkl\")\n",
    "recommend = pd.read_pickle(\"data/data_Recommandation.pkl\")\n",
    "\n",
    "parties = list(recommend.columns.drop_duplicates())\n",
    "parties.remove('Date')\n",
    "parties.remove('Votation')\n",
    "\n",
    "switzerland_coord = [46.765213, 8.252444]\n",
    "town_geo_path = r'data/switzerland_borders/municipalities_no_urnes.geojson'\n",
    "geo_json_data = json.load(open(town_geo_path, encoding=\"utf8\"))\n",
    "commune = [x['name'] for x in geo_json_data['features']]\n",
    "\n",
    "\n",
    "\n",
    "to_map = df.merge(recommend.loc[:, ['Votation'] + parties], on='Votation')\n",
    "to_map.head()"
   ]
  },
  {
   "cell_type": "markdown",
   "metadata": {},
   "source": [
    "Create a map of % of people agreeing in a party for each party.\n",
    "\n",
    "People agreeing are considered to people that vote the same as the party if it votes yes or no. We do not take into consideration other proposition of the party (like abstentation) or when we do not have information about the recommandation of a party."
   ]
  },
  {
   "cell_type": "code",
   "execution_count": 33,
   "metadata": {
    "scrolled": true
   },
   "outputs": [
    {
     "name": "stdout",
     "output_type": "stream",
     "text": [
      "<folium.folium.Map object at 0x000001ADA63A6BE0>\n",
      "<folium.folium.Map object at 0x000001AD98B58240>\n",
      "<folium.folium.Map object at 0x000001ADA68BA208>\n",
      "<folium.folium.Map object at 0x000001ADA68C1128>\n",
      "<folium.folium.Map object at 0x000001ADA3A9D588>\n",
      "<folium.folium.Map object at 0x000001AD9F60D160>\n",
      "<folium.folium.Map object at 0x000001AD98B58240>\n",
      "<folium.folium.Map object at 0x000001ADA7043438>\n",
      "<folium.folium.Map object at 0x000001ADA63A6BE0>\n",
      "<folium.folium.Map object at 0x000001ADA63A6F98>\n",
      "<folium.folium.Map object at 0x000001ADA3CB88D0>\n",
      "<folium.folium.Map object at 0x000001AD828E9F98>\n",
      "<folium.folium.Map object at 0x000001ADA351A7B8>\n",
      "<folium.folium.Map object at 0x000001AD82A43438>\n",
      "<folium.folium.Map object at 0x000001ADA3F2E198>\n",
      "<folium.folium.Map object at 0x000001ADA33B7320>\n",
      "<folium.folium.Map object at 0x000001ADA337EDA0>\n",
      "<folium.folium.Map object at 0x000001AD9C734828>\n",
      "<folium.folium.Map object at 0x000001AD941196A0>\n",
      "<folium.folium.Map object at 0x000001AD992B3438>\n"
     ]
    }
   ],
   "source": [
    "for parti in parties :\n",
    "    current_to_map = to_map.loc[:, ['Commune', 'Oui en %', parti]]\n",
    "    current_to_map = current_to_map[current_to_map[parti] != 0]\n",
    "    current_to_map['Agreement'] = current_to_map[['Oui en %', parti]] \\\n",
    "        .apply(lambda x : x['Oui en %'] if x[parti] == 1 else 100 - x['Oui en %'], axis=1)\n",
    "    \n",
    "    current_to_map = current_to_map.groupby('Commune', as_index=False).mean()\n",
    "    \n",
    "    map1 = folium.Map(location=switzerland_coord, zoom_start=8)\n",
    "    map1.choropleth(geo_data = geo_json_data, \\\n",
    "                    data = current_to_map, \\\n",
    "                    columns = ['Commune', 'Agreement'], \\\n",
    "                    key_on = 'feature.name', \\\n",
    "                    fill_color = 'RdYlGn', \\\n",
    "                    fill_opacity = 0.7, \\\n",
    "                    line_opacity = 0.2, \\\n",
    "                    legend_name = 'Agreement in % with ' + parti)\n",
    "    \n",
    "    map1.save('data/maps_partis/map_' + parti + '.html')\n",
    "    print(map1)"
   ]
  },
  {
   "cell_type": "markdown",
   "metadata": {},
   "source": [
    "Now we will take 4 parties to make an alysis, the 2 biggest (UDC,PS) , on with a medium level of importance (PB) and a parti with very few seat at the parlement (PST) (once again we took only 4 but the anylisis can be the same on the other maps) .\n",
    "\n",
    "So we will look at the ['UDC'](data//maps_partis/map_UDC.html), ['PS](data/maps_partis/map_PS.html) , ['PB](data/maps_partis/map_PBD.html) and the ['PST'](data/maps_partis/map_PST.html) :    \n",
    "This time the maps shows a lot of difference : the PS and PST shows very clear distinction between the french part and the deutsch part, very fitting of the Röstigraben, in the UDC and PBC on the other hand the difference are less important where in the UDC the difference overall between most of the state is not that big and in the PBC map the Röstigraben is near impossible to see."
   ]
  },
  {
   "cell_type": "markdown",
   "metadata": {},
   "source": [
    "# Conclusion\n",
    "\n",
    "In the end we have seen obvious differences between the french part and the deutsch part, but those differences seems to vary, not apply every where, and even in those differences we can see that they are far from being uniform.     \n",
    "As we stand it is diffcult to approve or deny the existence of the Röstigraben.\n"
   ]
  },
  {
   "cell_type": "code",
   "execution_count": null,
   "metadata": {},
   "outputs": [],
   "source": []
  }
 ],
 "metadata": {
  "kernelspec": {
   "display_name": "Python 3",
   "language": "python",
   "name": "python3"
  },
  "language_info": {
   "codemirror_mode": {
    "name": "ipython",
    "version": 3
   },
   "file_extension": ".py",
   "mimetype": "text/x-python",
   "name": "python",
   "nbconvert_exporter": "python",
   "pygments_lexer": "ipython3",
   "version": "3.6.1"
  }
 },
 "nbformat": 4,
 "nbformat_minor": 2
}
