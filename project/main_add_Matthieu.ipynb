{
 "cells": [
  {
   "cell_type": "markdown",
   "metadata": {},
   "source": [
    "This is the main notebook, it is used to create the map and any data we need for the website.\n",
    "\n",
    "We will not explain in this notebook the result obtained or the reason why we want them, those will be discuss in the data story"
   ]
  },
  {
   "cell_type": "code",
   "execution_count": 7,
   "metadata": {},
   "outputs": [],
   "source": [
    "import pandas as pd\n",
    "import numpy as np\n",
    "import json\n",
    "import folium\n",
    "\n",
    "#This 2 library are used for clustering the data\n",
    "from sklearn.cluster import KMeans, DBSCAN\n",
    "#This library is used to reduce a vector in such way as to retain as much data as possible\n",
    "from sklearn.decomposition import PCA\n",
    "\n",
    "import matplotlib.pyplot as plt"
   ]
  },
  {
   "cell_type": "code",
   "execution_count": 45,
   "metadata": {},
   "outputs": [],
   "source": [
    "#This allow us to load the content of data.pkl, \n",
    "#this file contains all the data about the votation (especially for us the approval rate) \n",
    "#for all canton and all votation of the last 30 years\n",
    "data = pd.read_pickle(\"data/data.pkl\")"
   ]
  },
  {
   "cell_type": "markdown",
   "metadata": {},
   "source": [
    "The following cell is loading all the data we need to draw the map. "
   ]
  },
  {
   "cell_type": "code",
   "execution_count": 46,
   "metadata": {},
   "outputs": [],
   "source": [
    "#coordinate for folium of the center of Switzerland\n",
    "switzerland_coord = [46.765213, 8.252444]\n",
    "\n",
    "#path to a geojson with in it all the borders between cantons and the swiss border.\n",
    "town_geo_path = r'data/switzerland_borders/municipalities_no_urnes.geojson'\n",
    "#content of the geojson \n",
    "geo_json_data = json.load(open(town_geo_path, encoding=\"utf8\"))\n",
    "#list of the name of all the commune into the geojson\n",
    "commune = [x['name']  for x in geo_json_data['features']]"
   ]
  },
  {
   "cell_type": "markdown",
   "metadata": {},
   "source": [
    "This cell is creating a matrix that represent the dataframe data with a line representing a commune and a column a votation.\n",
    "This will be used when we will need to clustre our data.\n",
    "It is possible to pass from a commune to its line on the matrix and the other way around by using respectively commune_dict (which is a dictionary commune to index) and commue_list. It is the same for each vote with votation_dict and votation_list.\n",
    "\n",
    "If we are missing some data for the matrix we put this vote of a canton to 50% because we cannot let a empty case for the clustering and this way the votation will be counting as not really having an opinion about the vote. (This case will happen 1306 on 696696 so this will not skew the resuts too much)."
   ]
  },
  {
   "cell_type": "code",
   "execution_count": 47,
   "metadata": {},
   "outputs": [],
   "source": [
    "commune_list = list(set(data['Commune'].values))\n",
    "commune_dict = { val : idx for idx , val in enumerate(commune_list)   }\n",
    "\n",
    "votation_list = list(set(data['Votation'].values))\n",
    "votation_dict = { val : idx for idx , val in enumerate(votation_list)   }\n",
    "\n",
    "# we create an array of the good size and for each line we get the the result of the votation in the good position,\n",
    "#using the dictionaries to find the good indexes.\n",
    "X = np.ones((len(commune_list) , len(votation_list) ) , dtype=float)\n",
    "for x in data [['Commune','Votation','Oui en %']].fillna(50).values :\n",
    "    X [commune_dict[x[0]]][votation_dict[x[1]]] = x[2]"
   ]
  },
  {
   "cell_type": "markdown",
   "metadata": {},
   "source": [
    "This list is a color list that will be used to colour the different group in the maps where the distinction we want to do are about a few discrete values."
   ]
  },
  {
   "cell_type": "code",
   "execution_count": 11,
   "metadata": {},
   "outputs": [],
   "source": [
    "color_list = ['#ff0000' , '#00ff00' , '#0000ff' , '#ffff00' , '#ff00ff' , '#00ffff' , '#000000' ]"
   ]
  },
  {
   "cell_type": "markdown",
   "metadata": {},
   "source": [
    "## Draw map languages"
   ]
  },
  {
   "cell_type": "markdown",
   "metadata": {},
   "source": [
    "This map is about creating a map which show what language is talked in this commune and at which intensity, and it will show the most voted and less voted proposition by language."
   ]
  },
  {
   "cell_type": "markdown",
   "metadata": {},
   "source": [
    "This cell loads the language spoken by commune, for each commune we gives the information of the language spoken (french, german, italian or romansh) and at which intensity it is spoken (big or medium) or if no language is a majority. "
   ]
  },
  {
   "cell_type": "code",
   "execution_count": 12,
   "metadata": {},
   "outputs": [
    {
     "data": {
      "text/html": [
       "<div>\n",
       "<style scoped>\n",
       "    .dataframe tbody tr th:only-of-type {\n",
       "        vertical-align: middle;\n",
       "    }\n",
       "\n",
       "    .dataframe tbody tr th {\n",
       "        vertical-align: top;\n",
       "    }\n",
       "\n",
       "    .dataframe thead th {\n",
       "        text-align: right;\n",
       "    }\n",
       "</style>\n",
       "<table border=\"1\" class=\"dataframe\">\n",
       "  <thead>\n",
       "    <tr style=\"text-align: right;\">\n",
       "      <th></th>\n",
       "      <th>Commune</th>\n",
       "      <th>Language</th>\n",
       "    </tr>\n",
       "  </thead>\n",
       "  <tbody>\n",
       "    <tr>\n",
       "      <th>0</th>\n",
       "      <td>Aeugst am Albis</td>\n",
       "      <td>Allemand: forte</td>\n",
       "    </tr>\n",
       "    <tr>\n",
       "      <th>1</th>\n",
       "      <td>Affoltern am Albis</td>\n",
       "      <td>Allemand: moyenne</td>\n",
       "    </tr>\n",
       "    <tr>\n",
       "      <th>2</th>\n",
       "      <td>Bonstetten</td>\n",
       "      <td>Allemand: forte</td>\n",
       "    </tr>\n",
       "    <tr>\n",
       "      <th>3</th>\n",
       "      <td>Hausen am Albis</td>\n",
       "      <td>Allemand: forte</td>\n",
       "    </tr>\n",
       "    <tr>\n",
       "      <th>4</th>\n",
       "      <td>Hedingen</td>\n",
       "      <td>Allemand: forte</td>\n",
       "    </tr>\n",
       "  </tbody>\n",
       "</table>\n",
       "</div>"
      ],
      "text/plain": [
       "              Commune           Language\n",
       "0     Aeugst am Albis    Allemand: forte\n",
       "1  Affoltern am Albis  Allemand: moyenne\n",
       "2          Bonstetten    Allemand: forte\n",
       "3     Hausen am Albis    Allemand: forte\n",
       "4            Hedingen    Allemand: forte"
      ]
     },
     "execution_count": 12,
     "metadata": {},
     "output_type": "execute_result"
    }
   ],
   "source": [
    "languages = pd.read_excel('data/languages_2000.xlsx', skiprows=1, skip_footer=11)\n",
    "languages.drop(['Regions-ID'], axis=1, inplace=True)\n",
    "languages.columns = ['Commune' , 'Language']\n",
    "languages.head()"
   ]
  },
  {
   "cell_type": "code",
   "execution_count": 13,
   "metadata": {},
   "outputs": [
    {
     "data": {
      "text/html": [
       "<div>\n",
       "<style scoped>\n",
       "    .dataframe tbody tr th:only-of-type {\n",
       "        vertical-align: middle;\n",
       "    }\n",
       "\n",
       "    .dataframe tbody tr th {\n",
       "        vertical-align: top;\n",
       "    }\n",
       "\n",
       "    .dataframe thead th {\n",
       "        text-align: right;\n",
       "    }\n",
       "</style>\n",
       "<table border=\"1\" class=\"dataframe\">\n",
       "  <thead>\n",
       "    <tr style=\"text-align: right;\">\n",
       "      <th></th>\n",
       "      <th>Commune</th>\n",
       "      <th>Votation</th>\n",
       "      <th>Electeurs inscrits</th>\n",
       "      <th>Bulletins rentrés</th>\n",
       "      <th>Participation en %</th>\n",
       "      <th>Bulletins valables</th>\n",
       "      <th>Oui</th>\n",
       "      <th>Non</th>\n",
       "      <th>Oui en %</th>\n",
       "      <th>District</th>\n",
       "      <th>Canton</th>\n",
       "      <th>Language</th>\n",
       "    </tr>\n",
       "  </thead>\n",
       "  <tbody>\n",
       "    <tr>\n",
       "      <th>0</th>\n",
       "      <td>Aeugst am Albis</td>\n",
       "      <td>29.11.1998 Initiative Droleg</td>\n",
       "      <td>1070.0</td>\n",
       "      <td>487.0</td>\n",
       "      <td>45.5</td>\n",
       "      <td>478.0</td>\n",
       "      <td>167.0</td>\n",
       "      <td>311.0</td>\n",
       "      <td>34.9</td>\n",
       "      <td>Affoltern</td>\n",
       "      <td>Zürich</td>\n",
       "      <td>Allemand: forte</td>\n",
       "    </tr>\n",
       "    <tr>\n",
       "      <th>1</th>\n",
       "      <td>Aeugst am Albis</td>\n",
       "      <td>14.06.2015 Initiative sur les bourses d'études</td>\n",
       "      <td>1380.0</td>\n",
       "      <td>706.0</td>\n",
       "      <td>51.2</td>\n",
       "      <td>695.0</td>\n",
       "      <td>186.0</td>\n",
       "      <td>509.0</td>\n",
       "      <td>26.8</td>\n",
       "      <td>Affoltern</td>\n",
       "      <td>Zürich</td>\n",
       "      <td>Allemand: forte</td>\n",
       "    </tr>\n",
       "    <tr>\n",
       "      <th>2</th>\n",
       "      <td>Aeugst am Albis</td>\n",
       "      <td>25.09.2016 Loi fédérale sur le renseignement</td>\n",
       "      <td>1400.0</td>\n",
       "      <td>670.0</td>\n",
       "      <td>47.9</td>\n",
       "      <td>659.0</td>\n",
       "      <td>417.0</td>\n",
       "      <td>242.0</td>\n",
       "      <td>63.3</td>\n",
       "      <td>Affoltern</td>\n",
       "      <td>Zürich</td>\n",
       "      <td>Allemand: forte</td>\n",
       "    </tr>\n",
       "    <tr>\n",
       "      <th>3</th>\n",
       "      <td>Aeugst am Albis</td>\n",
       "      <td>03.03.1991 Encouragement des transports publics</td>\n",
       "      <td>835.0</td>\n",
       "      <td>321.0</td>\n",
       "      <td>38.4</td>\n",
       "      <td>312.0</td>\n",
       "      <td>128.0</td>\n",
       "      <td>184.0</td>\n",
       "      <td>41.0</td>\n",
       "      <td>Affoltern</td>\n",
       "      <td>Zürich</td>\n",
       "      <td>Allemand: forte</td>\n",
       "    </tr>\n",
       "    <tr>\n",
       "      <th>4</th>\n",
       "      <td>Aeugst am Albis</td>\n",
       "      <td>12.02.2017 Réforme de l'imposition des entrepr...</td>\n",
       "      <td>1395.0</td>\n",
       "      <td>759.0</td>\n",
       "      <td>54.4</td>\n",
       "      <td>750.0</td>\n",
       "      <td>318.0</td>\n",
       "      <td>432.0</td>\n",
       "      <td>42.4</td>\n",
       "      <td>Affoltern</td>\n",
       "      <td>Zürich</td>\n",
       "      <td>Allemand: forte</td>\n",
       "    </tr>\n",
       "  </tbody>\n",
       "</table>\n",
       "</div>"
      ],
      "text/plain": [
       "           Commune                                           Votation  \\\n",
       "0  Aeugst am Albis                       29.11.1998 Initiative Droleg   \n",
       "1  Aeugst am Albis     14.06.2015 Initiative sur les bourses d'études   \n",
       "2  Aeugst am Albis       25.09.2016 Loi fédérale sur le renseignement   \n",
       "3  Aeugst am Albis    03.03.1991 Encouragement des transports publics   \n",
       "4  Aeugst am Albis  12.02.2017 Réforme de l'imposition des entrepr...   \n",
       "\n",
       "   Electeurs inscrits  Bulletins rentrés  Participation en %  \\\n",
       "0              1070.0              487.0                45.5   \n",
       "1              1380.0              706.0                51.2   \n",
       "2              1400.0              670.0                47.9   \n",
       "3               835.0              321.0                38.4   \n",
       "4              1395.0              759.0                54.4   \n",
       "\n",
       "   Bulletins valables    Oui    Non  Oui en %   District  Canton  \\\n",
       "0               478.0  167.0  311.0      34.9  Affoltern  Zürich   \n",
       "1               695.0  186.0  509.0      26.8  Affoltern  Zürich   \n",
       "2               659.0  417.0  242.0      63.3  Affoltern  Zürich   \n",
       "3               312.0  128.0  184.0      41.0  Affoltern  Zürich   \n",
       "4               750.0  318.0  432.0      42.4  Affoltern  Zürich   \n",
       "\n",
       "          Language  \n",
       "0  Allemand: forte  \n",
       "1  Allemand: forte  \n",
       "2  Allemand: forte  \n",
       "3  Allemand: forte  \n",
       "4  Allemand: forte  "
      ]
     },
     "execution_count": 13,
     "metadata": {},
     "output_type": "execute_result"
    }
   ],
   "source": [
    "#give for each line of data the language spoken inside its commune. \n",
    "data_lang = data.merge ( languages , on = 'Commune')\n",
    "data_lang.head()"
   ]
  },
  {
   "cell_type": "code",
   "execution_count": 43,
   "metadata": {},
   "outputs": [],
   "source": [
    "#this is a dictionnary that associate a language to a color on the map.\n",
    "color_language = {\n",
    "    'Allemand: forte':'red',\n",
    "    'Allemand: moyenne':'lightcoral',\n",
    "    'Français: forte':'blue',\n",
    "     'Français: moyenne':'lightskyblue',\n",
    "    'Italien: forte':'limegreen',\n",
    "     'Italien: moyenne':'darkseagreen',\n",
    "    'Romanche: forte':'yellow',\n",
    "    'Romanche: moyenne':'khaki',\n",
    "    'Pas de dominance nette': 'grey'   \n",
    "}"
   ]
  },
  {
   "cell_type": "code",
   "execution_count": 44,
   "metadata": {},
   "outputs": [],
   "source": [
    "#this cell is drawing the map of the language in Switzerland\n",
    "\n",
    "\n",
    "languages_series = languages.set_index('Commune')['Language']\n",
    "\n",
    "#this function will be used inside the geojson method to color the part of the map as descibed by color_language\n",
    "def style_function_language(feature):\n",
    "    language = languages_series.get(feature['name'], None)\n",
    "    if(language == None):\n",
    "        print(feature['name'])\n",
    "    return {\n",
    "        'fillOpacity': 1,\n",
    "        'weight': 0,\n",
    "        'fillColor': color_language[language]\n",
    "    }\n",
    "\n",
    "m = folium.Map(\n",
    "    location=switzerland_coord,\n",
    "    tiles=None,\n",
    "    zoom_start=8\n",
    ")\n",
    "\n",
    "folium.GeoJson(\n",
    "    geo_json_data,\n",
    "    style_function=style_function_language\n",
    ").add_to(m)\n",
    "\n",
    "m.choropleth(geo_data=geo_json_data,\n",
    "             fill_opacity=0,\n",
    "             line_opacity=1)\n",
    "\n",
    "m.save('data/map_language.html')"
   ]
  },
  {
   "cell_type": "markdown",
   "metadata": {},
   "source": [
    "For each language and intensity spoken we search for the 5 most voted and the 5 least voted."
   ]
  },
  {
   "cell_type": "code",
   "execution_count": null,
   "metadata": {},
   "outputs": [],
   "source": [
    "for data_by_l in data_lang.groupby('Language') :\n",
    "    current_language = data_by_l[0]\n",
    "    databl_mean = data_by_l[1].groupby('Votation' , as_index = False).mean()[['Votation','Oui en %']]\n",
    "    databl_votation = databl_mean.sort_values(by='Oui en %' , ascending = False)\n",
    "    print (current_language + ' max : '  )\n",
    "    print (databl_votation.head(5))\n",
    "    \n",
    "    print (current_language + ' min : '  )\n",
    "    print (databl_votation.tail(5))"
   ]
  },
  {
   "cell_type": "markdown",
   "metadata": {},
   "source": [
    "### Map by theme"
   ]
  },
  {
   "cell_type": "markdown",
   "metadata": {},
   "source": [
    "This part creates maps for each that show the percentage of agreement for each thematique."
   ]
  },
  {
   "cell_type": "markdown",
   "metadata": {},
   "source": [
    "We merge the 2 dataframes so that we have for each votation and each commune the theme and the percentage of yes. We only takes 'Thématique','Commune' and 'Oui en %' because it will be the only usefull information for later (Votation is no longer usefull once we managed to merge)\n",
    "\n",
    "We also make sure that there is in the dataframes only commune that are in the json so that we do not make the folium functions crash."
   ]
  },
  {
   "cell_type": "code",
   "execution_count": 21,
   "metadata": {},
   "outputs": [
    {
     "data": {
      "text/html": [
       "<div>\n",
       "<style scoped>\n",
       "    .dataframe tbody tr th:only-of-type {\n",
       "        vertical-align: middle;\n",
       "    }\n",
       "\n",
       "    .dataframe tbody tr th {\n",
       "        vertical-align: top;\n",
       "    }\n",
       "\n",
       "    .dataframe thead th {\n",
       "        text-align: right;\n",
       "    }\n",
       "</style>\n",
       "<table border=\"1\" class=\"dataframe\">\n",
       "  <thead>\n",
       "    <tr style=\"text-align: right;\">\n",
       "      <th></th>\n",
       "      <th>Thématique</th>\n",
       "      <th>Commune</th>\n",
       "      <th>Oui en %</th>\n",
       "    </tr>\n",
       "  </thead>\n",
       "  <tbody>\n",
       "    <tr>\n",
       "      <th>0</th>\n",
       "      <td>Enseignement, culture et médias</td>\n",
       "      <td>Aeugst am Albis</td>\n",
       "      <td>26.8</td>\n",
       "    </tr>\n",
       "    <tr>\n",
       "      <th>1</th>\n",
       "      <td>Enseignement, culture et médias</td>\n",
       "      <td>Affoltern am Albis</td>\n",
       "      <td>26.6</td>\n",
       "    </tr>\n",
       "    <tr>\n",
       "      <th>2</th>\n",
       "      <td>Enseignement, culture et médias</td>\n",
       "      <td>Bonstetten</td>\n",
       "      <td>23.6</td>\n",
       "    </tr>\n",
       "    <tr>\n",
       "      <th>3</th>\n",
       "      <td>Enseignement, culture et médias</td>\n",
       "      <td>Hausen am Albis</td>\n",
       "      <td>26.1</td>\n",
       "    </tr>\n",
       "    <tr>\n",
       "      <th>4</th>\n",
       "      <td>Enseignement, culture et médias</td>\n",
       "      <td>Hedingen</td>\n",
       "      <td>25.8</td>\n",
       "    </tr>\n",
       "  </tbody>\n",
       "</table>\n",
       "</div>"
      ],
      "text/plain": [
       "                        Thématique             Commune  Oui en %\n",
       "0  Enseignement, culture et médias     Aeugst am Albis      26.8\n",
       "1  Enseignement, culture et médias  Affoltern am Albis      26.6\n",
       "2  Enseignement, culture et médias          Bonstetten      23.6\n",
       "3  Enseignement, culture et médias     Hausen am Albis      26.1\n",
       "4  Enseignement, culture et médias            Hedingen      25.8"
      ]
     },
     "execution_count": 21,
     "metadata": {},
     "output_type": "execute_result"
    }
   ],
   "source": [
    "thematique = pd.read_pickle(\"data/Thématique.pkl\")\n",
    "data_theme = data.merge(thematique , on = 'Votation')\n",
    "\n",
    "data_t = data_theme[['Thématique','Commune','Oui en %']]\n",
    "data_t = data_t[data_t['Commune'].isin(commune)]\n",
    "data_t.head()"
   ]
  },
  {
   "cell_type": "markdown",
   "metadata": {},
   "source": [
    "We group the data by theme, and for each one we create a map showing how much people voted yes. We then save it into an html."
   ]
  },
  {
   "cell_type": "code",
   "execution_count": null,
   "metadata": {},
   "outputs": [],
   "source": [
    "\n",
    "for theme, data_theme in data_t.groupby('Thématique') :\n",
    "    data_theme = data_theme.groupby('Commune', as_index  = False).mean()\n",
    "    map1 = folium.Map(location=switzerland_coord, zoom_start=8)\n",
    "    map1.choropleth(geo_data = geo_json_data, \\\n",
    "                                    data = data_theme, \\\n",
    "                                    columns = ['Commune', 'Oui en %'], \\\n",
    "                                    key_on = 'feature.name', \\\n",
    "                                    fill_color = 'RdYlGn', \\\n",
    "                                    fill_opacity = 0.7, \\\n",
    "                                    line_opacity = 0.2, \\\n",
    "                                    legend_name = 'yes in % given to the theme ' + theme)\n",
    "    \n",
    "    map1.save('data/map_theme/map_'+theme+'.html')"
   ]
  },
  {
   "cell_type": "markdown",
   "metadata": {},
   "source": [
    "### Map by recommendation"
   ]
  },
  {
   "cell_type": "markdown",
   "metadata": {},
   "source": [
    "This notebook is for using the proposition of vote of each poilitical party to create a visual representation of how much each party is listened and try to see which region vote more for each party."
   ]
  },
  {
   "cell_type": "markdown",
   "metadata": {},
   "source": [
    "Prepare the map :    \n",
    "get the json to do the border   \n",
    "get all the commune name     \n",
    "only keep the value that are in the json."
   ]
  },
  {
   "cell_type": "code",
   "execution_count": 22,
   "metadata": {},
   "outputs": [
    {
     "data": {
      "text/html": [
       "<div>\n",
       "<style scoped>\n",
       "    .dataframe tbody tr th:only-of-type {\n",
       "        vertical-align: middle;\n",
       "    }\n",
       "\n",
       "    .dataframe tbody tr th {\n",
       "        vertical-align: top;\n",
       "    }\n",
       "\n",
       "    .dataframe thead th {\n",
       "        text-align: right;\n",
       "    }\n",
       "</style>\n",
       "<table border=\"1\" class=\"dataframe\">\n",
       "  <thead>\n",
       "    <tr style=\"text-align: right;\">\n",
       "      <th></th>\n",
       "      <th>Commune</th>\n",
       "      <th>Votation</th>\n",
       "      <th>Electeurs inscrits</th>\n",
       "      <th>Bulletins rentrés</th>\n",
       "      <th>Participation en %</th>\n",
       "      <th>Bulletins valables</th>\n",
       "      <th>Oui</th>\n",
       "      <th>Non</th>\n",
       "      <th>Oui en %</th>\n",
       "      <th>District</th>\n",
       "      <th>...</th>\n",
       "      <th>PLS</th>\n",
       "      <th>POCH</th>\n",
       "      <th>PRD</th>\n",
       "      <th>PS</th>\n",
       "      <th>PSL</th>\n",
       "      <th>PST</th>\n",
       "      <th>PVL</th>\n",
       "      <th>Rep.</th>\n",
       "      <th>UDC</th>\n",
       "      <th>UDF</th>\n",
       "    </tr>\n",
       "  </thead>\n",
       "  <tbody>\n",
       "    <tr>\n",
       "      <th>0</th>\n",
       "      <td>Aeugst am Albis</td>\n",
       "      <td>14.06.2015 Initiative sur les bourses d'études</td>\n",
       "      <td>1380.0</td>\n",
       "      <td>706.0</td>\n",
       "      <td>51.2</td>\n",
       "      <td>695.0</td>\n",
       "      <td>186.0</td>\n",
       "      <td>509.0</td>\n",
       "      <td>26.8</td>\n",
       "      <td>Affoltern</td>\n",
       "      <td>...</td>\n",
       "      <td>0</td>\n",
       "      <td>0</td>\n",
       "      <td>0</td>\n",
       "      <td>1</td>\n",
       "      <td>0</td>\n",
       "      <td>1</td>\n",
       "      <td>-1</td>\n",
       "      <td>0</td>\n",
       "      <td>-1</td>\n",
       "      <td>-1</td>\n",
       "    </tr>\n",
       "    <tr>\n",
       "      <th>1</th>\n",
       "      <td>Affoltern am Albis</td>\n",
       "      <td>14.06.2015 Initiative sur les bourses d'études</td>\n",
       "      <td>7026.0</td>\n",
       "      <td>2915.0</td>\n",
       "      <td>41.5</td>\n",
       "      <td>2851.0</td>\n",
       "      <td>759.0</td>\n",
       "      <td>2092.0</td>\n",
       "      <td>26.6</td>\n",
       "      <td>Affoltern</td>\n",
       "      <td>...</td>\n",
       "      <td>0</td>\n",
       "      <td>0</td>\n",
       "      <td>0</td>\n",
       "      <td>1</td>\n",
       "      <td>0</td>\n",
       "      <td>1</td>\n",
       "      <td>-1</td>\n",
       "      <td>0</td>\n",
       "      <td>-1</td>\n",
       "      <td>-1</td>\n",
       "    </tr>\n",
       "    <tr>\n",
       "      <th>2</th>\n",
       "      <td>Bonstetten</td>\n",
       "      <td>14.06.2015 Initiative sur les bourses d'études</td>\n",
       "      <td>3529.0</td>\n",
       "      <td>1740.0</td>\n",
       "      <td>49.3</td>\n",
       "      <td>1705.0</td>\n",
       "      <td>402.0</td>\n",
       "      <td>1303.0</td>\n",
       "      <td>23.6</td>\n",
       "      <td>Affoltern</td>\n",
       "      <td>...</td>\n",
       "      <td>0</td>\n",
       "      <td>0</td>\n",
       "      <td>0</td>\n",
       "      <td>1</td>\n",
       "      <td>0</td>\n",
       "      <td>1</td>\n",
       "      <td>-1</td>\n",
       "      <td>0</td>\n",
       "      <td>-1</td>\n",
       "      <td>-1</td>\n",
       "    </tr>\n",
       "    <tr>\n",
       "      <th>3</th>\n",
       "      <td>Hausen am Albis</td>\n",
       "      <td>14.06.2015 Initiative sur les bourses d'études</td>\n",
       "      <td>2395.0</td>\n",
       "      <td>1143.0</td>\n",
       "      <td>47.7</td>\n",
       "      <td>1120.0</td>\n",
       "      <td>292.0</td>\n",
       "      <td>828.0</td>\n",
       "      <td>26.1</td>\n",
       "      <td>Affoltern</td>\n",
       "      <td>...</td>\n",
       "      <td>0</td>\n",
       "      <td>0</td>\n",
       "      <td>0</td>\n",
       "      <td>1</td>\n",
       "      <td>0</td>\n",
       "      <td>1</td>\n",
       "      <td>-1</td>\n",
       "      <td>0</td>\n",
       "      <td>-1</td>\n",
       "      <td>-1</td>\n",
       "    </tr>\n",
       "    <tr>\n",
       "      <th>4</th>\n",
       "      <td>Hedingen</td>\n",
       "      <td>14.06.2015 Initiative sur les bourses d'études</td>\n",
       "      <td>2476.0</td>\n",
       "      <td>1252.0</td>\n",
       "      <td>50.6</td>\n",
       "      <td>1224.0</td>\n",
       "      <td>316.0</td>\n",
       "      <td>908.0</td>\n",
       "      <td>25.8</td>\n",
       "      <td>Affoltern</td>\n",
       "      <td>...</td>\n",
       "      <td>0</td>\n",
       "      <td>0</td>\n",
       "      <td>0</td>\n",
       "      <td>1</td>\n",
       "      <td>0</td>\n",
       "      <td>1</td>\n",
       "      <td>-1</td>\n",
       "      <td>0</td>\n",
       "      <td>-1</td>\n",
       "      <td>-1</td>\n",
       "    </tr>\n",
       "  </tbody>\n",
       "</table>\n",
       "<p>5 rows × 32 columns</p>\n",
       "</div>"
      ],
      "text/plain": [
       "              Commune                                        Votation  \\\n",
       "0     Aeugst am Albis  14.06.2015 Initiative sur les bourses d'études   \n",
       "1  Affoltern am Albis  14.06.2015 Initiative sur les bourses d'études   \n",
       "2          Bonstetten  14.06.2015 Initiative sur les bourses d'études   \n",
       "3     Hausen am Albis  14.06.2015 Initiative sur les bourses d'études   \n",
       "4            Hedingen  14.06.2015 Initiative sur les bourses d'études   \n",
       "\n",
       "   Electeurs inscrits  Bulletins rentrés  Participation en %  \\\n",
       "0              1380.0              706.0                51.2   \n",
       "1              7026.0             2915.0                41.5   \n",
       "2              3529.0             1740.0                49.3   \n",
       "3              2395.0             1143.0                47.7   \n",
       "4              2476.0             1252.0                50.6   \n",
       "\n",
       "   Bulletins valables    Oui     Non  Oui en %   District ... PLS POCH PRD PS  \\\n",
       "0               695.0  186.0   509.0      26.8  Affoltern ...   0    0   0  1   \n",
       "1              2851.0  759.0  2092.0      26.6  Affoltern ...   0    0   0  1   \n",
       "2              1705.0  402.0  1303.0      23.6  Affoltern ...   0    0   0  1   \n",
       "3              1120.0  292.0   828.0      26.1  Affoltern ...   0    0   0  1   \n",
       "4              1224.0  316.0   908.0      25.8  Affoltern ...   0    0   0  1   \n",
       "\n",
       "  PSL PST PVL Rep. UDC UDF  \n",
       "0   0   1  -1    0  -1  -1  \n",
       "1   0   1  -1    0  -1  -1  \n",
       "2   0   1  -1    0  -1  -1  \n",
       "3   0   1  -1    0  -1  -1  \n",
       "4   0   1  -1    0  -1  -1  \n",
       "\n",
       "[5 rows x 32 columns]"
      ]
     },
     "execution_count": 22,
     "metadata": {},
     "output_type": "execute_result"
    }
   ],
   "source": [
    "recommend = pd.read_pickle(\"data/data_Recommandation.pkl\")\n",
    "\n",
    "parties = list(recommend.columns.drop_duplicates())\n",
    "parties.remove('Date')\n",
    "parties.remove('Votation')\n",
    "\n",
    "\n",
    "\n",
    "data_recommend = data.merge(recommend.loc[:, ['Votation'] + parties], on='Votation')\n",
    "data_recommend.head()"
   ]
  },
  {
   "cell_type": "markdown",
   "metadata": {},
   "source": [
    "Create a map of % of people agreeing in a party for each party.\n",
    "\n",
    "People agreeing are considered to people that vote the same as the party if it votes yes or no. We do not take into consideration other proposition of the party (like abstentation) or when we do not have information about the recommandation of a party."
   ]
  },
  {
   "cell_type": "code",
   "execution_count": null,
   "metadata": {
    "scrolled": true
   },
   "outputs": [],
   "source": [
    "for parti in parties :\n",
    "    current_to_map = data_recommend.loc[:, ['Commune', 'Oui en %', parti]]\n",
    "    current_to_map = current_to_map[current_to_map[parti] != 0]\n",
    "    current_to_map['Agreement'] = current_to_map[['Oui en %', parti]] \\\n",
    "        .apply(lambda x : x['Oui en %'] if x[parti] == 1 else 100 - x['Oui en %'], axis=1)\n",
    "    \n",
    "    current_to_map = current_to_map.groupby('Commune', as_index=False).mean()\n",
    "    \n",
    "    map1 = folium.Map(location=switzerland_coord, zoom_start=8)\n",
    "    map1.choropleth(geo_data = geo_json_data, \\\n",
    "                    data = current_to_map, \\\n",
    "                    columns = ['Commune', 'Agreement'], \\\n",
    "                    key_on = 'feature.name', \\\n",
    "                    fill_color = 'RdYlGn', \\\n",
    "                    fill_opacity = 0.7, \\\n",
    "                    line_opacity = 0.2, \\\n",
    "                    legend_name = 'Agreement in % with ' + parti)\n",
    "    \n",
    "    map1.save('data/maps_partis/map_' + parti + '.html')\n",
    "    "
   ]
  },
  {
   "cell_type": "markdown",
   "metadata": {},
   "source": [
    "## Clustering\n"
   ]
  },
  {
   "cell_type": "markdown",
   "metadata": {},
   "source": [
    "### kmeans"
   ]
  },
  {
   "cell_type": "code",
   "execution_count": 26,
   "metadata": {},
   "outputs": [],
   "source": [
    "def draw_map_kmeans (n_clusters , X , file_PCA = None ) :\n",
    "    kmeans_res = KMeans(n_clusters=n_clusters, random_state=0).fit(X)\n",
    "    groups = kmeans_res.labels_\n",
    "    commune_to_group = pd.DataFrame({'Commune' : commune_list , 'Group' : groups})\n",
    "    commune_to_group = commune_to_group.set_index('Commune')['Group']\n",
    "    \n",
    "    \n",
    "    \n",
    "    plt.figure(100+n_clusters)\n",
    "    \n",
    "    \n",
    "    model_PCA = PCA ( n_components=2)\n",
    "    X_PCA = model_PCA.fit_transform(X)\n",
    "    \n",
    "    for current_group in range (n_clusters) :\n",
    "        group_y = [X_PCA[i] for i in range(len(X_PCA)) if groups[i] == current_group]\n",
    "        plt.scatter( [x[0] for x in group_y], [x[1] for x in group_y], c= color_list[current_group])\n",
    "    \n",
    "    if (file_PCA != None) :\n",
    "        plt.savefig(file_PCA+'PCAA_kmeans'+str(n_clusters)+'.png')\n",
    "    else :\n",
    "        print(plt.show())\n",
    "    plt.gcf().clear()\n",
    "    \n",
    "    \n",
    "    \n",
    "    def style_function_kmeans(feature):\n",
    "        group = commune_to_group.get(feature['name'], None)\n",
    "        if(group == None):\n",
    "            print(feature['name'])\n",
    "        return {\n",
    "            'fillOpacity': 1,\n",
    "            'weight': 0,\n",
    "            'fillColor': color_list[group]\n",
    "        }\n",
    "    \n",
    "    \n",
    "    \n",
    "    m = folium.Map(location=switzerland_coord, zoom_start=8)\n",
    "    \n",
    "    folium.GeoJson(\n",
    "        geo_json_data,\n",
    "        style_function=style_function_kmeans\n",
    "    ).add_to(m)\n",
    "\n",
    "    m.choropleth(geo_data=geo_json_data,\n",
    "             fill_opacity=0,\n",
    "             line_opacity=1)\n",
    "    \n",
    "    return m"
   ]
  },
  {
   "cell_type": "code",
   "execution_count": 14,
   "metadata": {},
   "outputs": [
    {
     "data": {
      "text/plain": [
       "<matplotlib.figure.Figure at 0x1bf71119fd0>"
      ]
     },
     "metadata": {},
     "output_type": "display_data"
    },
    {
     "data": {
      "text/plain": [
       "<matplotlib.figure.Figure at 0x1bf711919e8>"
      ]
     },
     "metadata": {},
     "output_type": "display_data"
    },
    {
     "data": {
      "text/plain": [
       "<matplotlib.figure.Figure at 0x1bf711d2fd0>"
      ]
     },
     "metadata": {},
     "output_type": "display_data"
    },
    {
     "data": {
      "text/plain": [
       "<matplotlib.figure.Figure at 0x1bf711cdf28>"
      ]
     },
     "metadata": {},
     "output_type": "display_data"
    }
   ],
   "source": [
    "for i in range (2,6) :  \n",
    "    draw_map_kmeans(i,X, file_PCA='data/map_ml/').save('data/map_ml/kmeans'+str(i)+'.html')"
   ]
  },
  {
   "cell_type": "markdown",
   "metadata": {},
   "source": [
    "### DBSCAN"
   ]
  },
  {
   "cell_type": "code",
   "execution_count": 27,
   "metadata": {},
   "outputs": [],
   "source": [
    "def draw_map_DBSCAN (X , file_PCA = None) : \n",
    "    min_samples = 20\n",
    "\n",
    "    X_array = [ np.array(x_) for x_ in X]\n",
    "    range_X = range(len(X))\n",
    "    Xmeans = np.mean([ np.mean(\\\n",
    "                            np.sort([np.linalg.norm(X_array[x]-X_array[y]) \\\n",
    "                             for x in range_X  if x!=y])[:(min_samples*2-1)] \\\n",
    "                           )\\\n",
    "                   for y in range_X ] )\n",
    "    groups =  DBSCAN(eps=Xmeans, min_samples=min_samples).fit(X).labels_\n",
    "    \n",
    "    \n",
    "    \n",
    "    \n",
    "    model_PCA = PCA ( n_components=2)\n",
    "    X_PCA = model_PCA.fit_transform(X)\n",
    "    \n",
    "    n_clusters = max(groups)+1\n",
    "    for current_group in range (-1,n_clusters) :\n",
    "        group_y = [X_PCA[i] for i in range(len(X_PCA)) if groups[i] == current_group]\n",
    "        plt.scatter( [x[0] for x in group_y], [x[1] for x in group_y], c= color_list[current_group])\n",
    "    \n",
    "    \n",
    "    if (file_PCA != None) :\n",
    "        \n",
    "        plt.savefig(file_PCA+'PCAA_DBSCAN.png')\n",
    "    else :\n",
    "        print(plt.show())\n",
    "        \n",
    "    plt.gcf().clear()\n",
    "    \n",
    "    \n",
    "    \n",
    "    \n",
    "    \n",
    "    commune_to_group = pd.DataFrame({'Commune' : commune_list , 'Group' : groups}).set_index('Commune')['Group']\n",
    "    \n",
    "    def style_function_DBSCAN(feature):\n",
    "        group = commune_to_group.get(feature['name'], None)\n",
    "        if(group == None):\n",
    "            print(feature['name'])\n",
    "        return {\n",
    "            'fillOpacity': 1,\n",
    "            'weight': 0,\n",
    "            'fillColor': color_list[group]\n",
    "        }\n",
    "    \n",
    "    \n",
    "    \n",
    "    m = folium.Map(location=switzerland_coord, zoom_start=8)\n",
    "    \n",
    "    folium.GeoJson(\n",
    "        geo_json_data,\n",
    "        style_function=style_function_DBSCAN\n",
    "    ).add_to(m)\n",
    "\n",
    "    m.choropleth(geo_data=geo_json_data,\n",
    "             fill_opacity=0,\n",
    "             line_opacity=1)\n",
    "    \n",
    "    return m"
   ]
  },
  {
   "cell_type": "code",
   "execution_count": 16,
   "metadata": {},
   "outputs": [
    {
     "data": {
      "text/plain": [
       "<matplotlib.figure.Figure at 0x1bf0a059400>"
      ]
     },
     "metadata": {},
     "output_type": "display_data"
    }
   ],
   "source": [
    "draw_map_DBSCAN (X,'data/map_ml/').save('data/map_ml/DBSCAN.html')"
   ]
  },
  {
   "cell_type": "markdown",
   "metadata": {},
   "source": [
    "### clustering for theme"
   ]
  },
  {
   "cell_type": "code",
   "execution_count": 18,
   "metadata": {},
   "outputs": [
    {
     "data": {
      "text/plain": [
       "<matplotlib.figure.Figure at 0x1bf7124ce80>"
      ]
     },
     "metadata": {},
     "output_type": "display_data"
    }
   ],
   "source": [
    "#data_bg = data by group\n",
    "for data_bg in data_theme[['Thématique','Votation','Commune','Oui en %']].groupby('Thématique') :\n",
    "    theme = data_bg[0]\n",
    "    data_bg = pd.DataFrame(data = data_bg[1])\n",
    "\n",
    "    votation_list_t = list(set(data_bg['Votation'].values))\n",
    "    votation_dict_t = { val : idx for idx , val in enumerate(votation_list_t)   }\n",
    "\n",
    "    Xt = np.ones((len(commune_list) , len(votation_list_t) ) , dtype=float)\n",
    "    \n",
    "    for x in data_bg [['Commune','Votation','Oui en %']].fillna(50).values :\n",
    "        Xt [commune_dict[x[0]]][votation_dict_t[x[1]]] = x[2]\n",
    "    draw_map_kmeans(2,Xt,'data/maps_theme_ml/'+theme).save('data/maps_theme_ml/kmeans_'+theme+'.html') \n",
    "    draw_map_DBSCAN (Xt,'data/maps_theme_ml/'+theme).save('data/maps_theme_ml/DBSCAN_'+theme+'.html')"
   ]
  },
  {
   "cell_type": "markdown",
   "metadata": {},
   "source": [
    "### Cluster by recommendation"
   ]
  },
  {
   "cell_type": "code",
   "execution_count": 25,
   "metadata": {},
   "outputs": [
    {
     "data": {
      "text/plain": [
       "<matplotlib.figure.Figure at 0x1bf703f6588>"
      ]
     },
     "metadata": {},
     "output_type": "display_data"
    }
   ],
   "source": [
    "for parti in parties :\n",
    "    curr_recommend = data_recommend.loc[:, ['Commune', 'Votation' , 'Oui en %', parti]]\n",
    "    curr_recommend = curr_recommend[curr_recommend[parti] != 0]\n",
    "    curr_recommend['Agreement'] = curr_recommend[['Oui en %', parti]] \\\n",
    "        .apply(lambda x : x['Oui en %'] if x[parti] == 1 else 100 - x['Oui en %'], axis=1)\n",
    "    \n",
    "    \n",
    "    votation_list_t = list(set(curr_recommend['Votation'].values))\n",
    "    votation_dict_t = { val : idx for idx , val in enumerate(votation_list_t)   }\n",
    "\n",
    "    Xt = np.ones((len(commune_list) , len(votation_list_t) ) , dtype=float)\n",
    "    \n",
    "    for x in curr_recommend [['Commune','Votation','Oui en %']].fillna(50).values :\n",
    "        Xt [commune_dict[x[0]]][votation_dict_t[x[1]]] = x[2]\n",
    "    draw_map_kmeans(2,Xt,'data/map_recommendation_cluster/'+parti).save('data/map_recommendation_cluster/kmeans_'+parti+'.html') \n",
    "    draw_map_DBSCAN (Xt,'data/map_recommendation_cluster/'+parti).save('data/map_recommendation_cluster/DBSCAN_'+parti+'.html')\n",
    "    \n",
    "    "
   ]
  },
  {
   "cell_type": "markdown",
   "metadata": {},
   "source": [
    "# Current day analysis"
   ]
  },
  {
   "cell_type": "code",
   "execution_count": 28,
   "metadata": {},
   "outputs": [],
   "source": [
    "data = pd.read_pickle(\"data/data_young.pkl\")\n",
    "data_recommend = data.merge(recommend.loc[:, ['Votation'] + parties], on='Votation')\n",
    "data_theme = data.merge(thematique , on = 'Votation')"
   ]
  },
  {
   "cell_type": "code",
   "execution_count": 29,
   "metadata": {},
   "outputs": [],
   "source": [
    "votation_list = list(set(data['Votation'].values))\n",
    "votation_dict = { val : idx for idx , val in enumerate(votation_list)   }\n",
    "\n",
    "X = np.ones((len(commune_list) , len(votation_list) ) , dtype=float)\n",
    "\n",
    "\n",
    "for x in data [['Commune','Votation','Oui en %']].fillna(50).values :\n",
    "    X [commune_dict[x[0]]][votation_dict[x[1]]] = x[2]"
   ]
  },
  {
   "cell_type": "code",
   "execution_count": 30,
   "metadata": {},
   "outputs": [
    {
     "data": {
      "text/plain": [
       "<matplotlib.figure.Figure at 0x25ad88fc898>"
      ]
     },
     "metadata": {},
     "output_type": "display_data"
    },
    {
     "data": {
      "text/plain": [
       "<matplotlib.figure.Figure at 0x25ad3869780>"
      ]
     },
     "metadata": {},
     "output_type": "display_data"
    },
    {
     "data": {
      "text/plain": [
       "<matplotlib.figure.Figure at 0x25ad3878588>"
      ]
     },
     "metadata": {},
     "output_type": "display_data"
    },
    {
     "data": {
      "text/plain": [
       "<matplotlib.figure.Figure at 0x25adb41ffd0>"
      ]
     },
     "metadata": {},
     "output_type": "display_data"
    }
   ],
   "source": [
    "for i in range (2,6) :  \n",
    "    draw_map_kmeans(i,X, file_PCA='data/young/map_ml/').save('data/young/map_ml/kmeans'+str(i)+'.html')"
   ]
  },
  {
   "cell_type": "code",
   "execution_count": 31,
   "metadata": {},
   "outputs": [
    {
     "data": {
      "text/plain": [
       "<matplotlib.figure.Figure at 0x25adb41f1d0>"
      ]
     },
     "metadata": {},
     "output_type": "display_data"
    }
   ],
   "source": [
    "draw_map_DBSCAN (X,'data/young/map_ml/').save('data/young/map_ml/DBSCAN.html')"
   ]
  },
  {
   "cell_type": "code",
   "execution_count": 32,
   "metadata": {},
   "outputs": [
    {
     "data": {
      "text/plain": [
       "<matplotlib.figure.Figure at 0x25adb43e828>"
      ]
     },
     "metadata": {},
     "output_type": "display_data"
    }
   ],
   "source": [
    "#data_bg = data by group\n",
    "for data_bg in data_theme[['Thématique','Votation','Commune','Oui en %']].groupby('Thématique') :\n",
    "    theme = data_bg[0]\n",
    "    data_bg = pd.DataFrame(data = data_bg[1])\n",
    "\n",
    "    votation_list_t = list(set(data_bg['Votation'].values))\n",
    "    votation_dict_t = { val : idx for idx , val in enumerate(votation_list_t)   }\n",
    "\n",
    "    Xt = np.ones((len(commune_list) , len(votation_list_t) ) , dtype=float)\n",
    "    \n",
    "    for x in data_bg [['Commune','Votation','Oui en %']].fillna(50).values :\n",
    "        Xt [commune_dict[x[0]]][votation_dict_t[x[1]]] = x[2]\n",
    "    draw_map_kmeans(2,Xt,'data/young/maps_theme_ml/'+theme).save('data/young/maps_theme_ml/kmeans_'+theme+'.html') \n",
    "    draw_map_DBSCAN (Xt,'data/young/maps_theme_ml/'+theme).save('data/young/maps_theme_ml/DBSCAN_'+theme+'.html')"
   ]
  },
  {
   "cell_type": "code",
   "execution_count": 52,
   "metadata": {},
   "outputs": [
    {
     "data": {
      "text/plain": [
       "<matplotlib.figure.Figure at 0x25adb2d3c88>"
      ]
     },
     "metadata": {},
     "output_type": "display_data"
    }
   ],
   "source": [
    "for parti in parties :\n",
    "    curr_recommend = data_recommend.loc[:, ['Commune', 'Votation' , 'Oui en %', parti]]\n",
    "    curr_recommend = curr_recommend[curr_recommend[parti] != 0]\n",
    "    if (len(curr_recommend) > 0):\n",
    "        curr_recommend['Agreement'] = curr_recommend[['Oui en %', parti]] \\\n",
    "            .apply(lambda x : x['Oui en %'] if x[parti] == 1 else 100 - x['Oui en %'], axis=1)\n",
    "    \n",
    "    \n",
    "        votation_list_t = list(set(curr_recommend['Votation'].values))\n",
    "        votation_dict_t = { val : idx for idx , val in enumerate(votation_list_t)   }\n",
    "\n",
    "        Xt = np.ones((len(commune_list) , len(votation_list_t) ) , dtype=float)\n",
    "    \n",
    "        for x in curr_recommend [['Commune','Votation','Oui en %']].fillna(50).values :\n",
    "            Xt [commune_dict[x[0]]][votation_dict_t[x[1]]] = x[2]\n",
    "        \n",
    "        if ( len(Xt[0]) > 1) :\n",
    "            draw_map_kmeans(2,Xt,'data/young/map_recommendation_cluster/'+parti).save('data/young/map_recommendation_cluster/kmeans_'+parti+'.html') \n",
    "            draw_map_DBSCAN (Xt,'data/young/map_recommendation_cluster/'+parti).save('data/young/map_recommendation_cluster/DBSCAN_'+parti+'.html')\n",
    "    "
   ]
  },
  {
   "cell_type": "code",
   "execution_count": null,
   "metadata": {},
   "outputs": [],
   "source": []
  }
 ],
 "metadata": {
  "kernelspec": {
   "display_name": "Python 3",
   "language": "python",
   "name": "python3"
  }
 },
 "nbformat": 4,
 "nbformat_minor": 2
}
