{
 "cells": [
  {
   "cell_type": "code",
   "execution_count": 51,
   "metadata": {
    "collapsed": true
   },
   "outputs": [],
   "source": [
    "import pandas as pd\n",
    "import numpy as np\n",
    "from difflib import SequenceMatcher\n",
    "import json\n",
    "import folium\n",
    "from sklearn.cluster import KMeans, DBSCAN"
   ]
  },
  {
   "cell_type": "code",
   "execution_count": 52,
   "metadata": {
    "collapsed": true
   },
   "outputs": [],
   "source": [
    "# Read votation data\n",
    "df = pd.read_pickle(\"data/data.pkl\")"
   ]
  },
  {
   "cell_type": "code",
   "execution_count": 53,
   "metadata": {},
   "outputs": [
    {
     "data": {
      "text/html": [
       "<div>\n",
       "<style>\n",
       "    .dataframe thead tr:only-child th {\n",
       "        text-align: right;\n",
       "    }\n",
       "\n",
       "    .dataframe thead th {\n",
       "        text-align: left;\n",
       "    }\n",
       "\n",
       "    .dataframe tbody tr th {\n",
       "        vertical-align: top;\n",
       "    }\n",
       "</style>\n",
       "<table border=\"1\" class=\"dataframe\">\n",
       "  <thead>\n",
       "    <tr style=\"text-align: right;\">\n",
       "      <th></th>\n",
       "      <th>Commune</th>\n",
       "      <th>Votation</th>\n",
       "      <th>Electeurs inscrits</th>\n",
       "      <th>Bulletins rentrés</th>\n",
       "      <th>Participation en %</th>\n",
       "      <th>Bulletins valables</th>\n",
       "      <th>Oui</th>\n",
       "      <th>Non</th>\n",
       "      <th>Oui en %</th>\n",
       "      <th>District</th>\n",
       "      <th>Canton</th>\n",
       "      <th>Pays</th>\n",
       "    </tr>\n",
       "  </thead>\n",
       "  <tbody>\n",
       "    <tr>\n",
       "      <th>0</th>\n",
       "      <td>Aeugst am Albis</td>\n",
       "      <td>29.11.1998 Initiative Droleg</td>\n",
       "      <td>1070.0</td>\n",
       "      <td>487.0</td>\n",
       "      <td>45.5</td>\n",
       "      <td>478.0</td>\n",
       "      <td>167.0</td>\n",
       "      <td>311.0</td>\n",
       "      <td>34.9</td>\n",
       "      <td>Affoltern</td>\n",
       "      <td>Zürich</td>\n",
       "      <td>Suisse</td>\n",
       "    </tr>\n",
       "    <tr>\n",
       "      <th>1</th>\n",
       "      <td>Aeugst am Albis</td>\n",
       "      <td>14.06.2015 Initiative sur les bourses d'études</td>\n",
       "      <td>1380.0</td>\n",
       "      <td>706.0</td>\n",
       "      <td>51.2</td>\n",
       "      <td>695.0</td>\n",
       "      <td>186.0</td>\n",
       "      <td>509.0</td>\n",
       "      <td>26.8</td>\n",
       "      <td>Affoltern</td>\n",
       "      <td>Zürich</td>\n",
       "      <td>Suisse</td>\n",
       "    </tr>\n",
       "    <tr>\n",
       "      <th>2</th>\n",
       "      <td>Aeugst am Albis</td>\n",
       "      <td>25.09.2016 Loi fédérale sur le renseignement</td>\n",
       "      <td>1400.0</td>\n",
       "      <td>670.0</td>\n",
       "      <td>47.9</td>\n",
       "      <td>659.0</td>\n",
       "      <td>417.0</td>\n",
       "      <td>242.0</td>\n",
       "      <td>63.3</td>\n",
       "      <td>Affoltern</td>\n",
       "      <td>Zürich</td>\n",
       "      <td>Suisse</td>\n",
       "    </tr>\n",
       "    <tr>\n",
       "      <th>3</th>\n",
       "      <td>Aeugst am Albis</td>\n",
       "      <td>03.03.1991 Encouragement des transports publics</td>\n",
       "      <td>835.0</td>\n",
       "      <td>321.0</td>\n",
       "      <td>38.4</td>\n",
       "      <td>312.0</td>\n",
       "      <td>128.0</td>\n",
       "      <td>184.0</td>\n",
       "      <td>41.0</td>\n",
       "      <td>Affoltern</td>\n",
       "      <td>Zürich</td>\n",
       "      <td>Suisse</td>\n",
       "    </tr>\n",
       "    <tr>\n",
       "      <th>4</th>\n",
       "      <td>Aeugst am Albis</td>\n",
       "      <td>12.02.2017 Réforme de l'imposition des entrepr...</td>\n",
       "      <td>1395.0</td>\n",
       "      <td>759.0</td>\n",
       "      <td>54.4</td>\n",
       "      <td>750.0</td>\n",
       "      <td>318.0</td>\n",
       "      <td>432.0</td>\n",
       "      <td>42.4</td>\n",
       "      <td>Affoltern</td>\n",
       "      <td>Zürich</td>\n",
       "      <td>Suisse</td>\n",
       "    </tr>\n",
       "  </tbody>\n",
       "</table>\n",
       "</div>"
      ],
      "text/plain": [
       "           Commune                                           Votation  \\\n",
       "0  Aeugst am Albis                       29.11.1998 Initiative Droleg   \n",
       "1  Aeugst am Albis     14.06.2015 Initiative sur les bourses d'études   \n",
       "2  Aeugst am Albis       25.09.2016 Loi fédérale sur le renseignement   \n",
       "3  Aeugst am Albis    03.03.1991 Encouragement des transports publics   \n",
       "4  Aeugst am Albis  12.02.2017 Réforme de l'imposition des entrepr...   \n",
       "\n",
       "   Electeurs inscrits  Bulletins rentrés  Participation en %  \\\n",
       "0              1070.0              487.0                45.5   \n",
       "1              1380.0              706.0                51.2   \n",
       "2              1400.0              670.0                47.9   \n",
       "3               835.0              321.0                38.4   \n",
       "4              1395.0              759.0                54.4   \n",
       "\n",
       "   Bulletins valables    Oui    Non  Oui en %   District  Canton    Pays  \n",
       "0               478.0  167.0  311.0      34.9  Affoltern  Zürich  Suisse  \n",
       "1               695.0  186.0  509.0      26.8  Affoltern  Zürich  Suisse  \n",
       "2               659.0  417.0  242.0      63.3  Affoltern  Zürich  Suisse  \n",
       "3               312.0  128.0  184.0      41.0  Affoltern  Zürich  Suisse  \n",
       "4               750.0  318.0  432.0      42.4  Affoltern  Zürich  Suisse  "
      ]
     },
     "execution_count": 53,
     "metadata": {},
     "output_type": "execute_result"
    }
   ],
   "source": [
    "df.head()"
   ]
  },
  {
   "cell_type": "code",
   "execution_count": 54,
   "metadata": {
    "collapsed": true
   },
   "outputs": [],
   "source": [
    "commune_list = list(set(df['Commune'].values))\n",
    "commune_dict = { val : idx for idx , val in enumerate(commune_list)   }\n",
    "\n",
    "votation_list = list(set(df['Votation'].values))\n",
    "votation_dict = { val : idx for idx , val in enumerate(votation_list)   }\n",
    "\n",
    "X = np.ones((len(commune_list) , len(votation_list) ) , dtype=float)"
   ]
  },
  {
   "cell_type": "code",
   "execution_count": 55,
   "metadata": {
    "collapsed": true
   },
   "outputs": [],
   "source": [
    "for x in df [['Commune','Votation','Oui en %']].fillna(50).values :\n",
    "    X [commune_dict[x[0]]][votation_dict[x[1]]] = x[2]"
   ]
  },
  {
   "cell_type": "code",
   "execution_count": 56,
   "metadata": {},
   "outputs": [
    {
     "data": {
      "text/plain": [
       "array([[ 66.7,  23.1,  66.2, ...,  55.1,  29.2,  49.6],\n",
       "       [ 71.1,  26.5,  56.7, ...,  54.9,  22. ,  52. ],\n",
       "       [ 81.9,  24.6,  77. , ...,  36.9,  19.2,  53.3],\n",
       "       ..., \n",
       "       [ 74.3,  27.6,  72.3, ...,  53.9,  24.7,  54.8],\n",
       "       [ 52. ,   5.3,  69.5, ...,  23.2,  15.9,  32.9],\n",
       "       [ 67.2,  19.6,  73.6, ...,  38.2,   6.3,  46.6]])"
      ]
     },
     "execution_count": 56,
     "metadata": {},
     "output_type": "execute_result"
    }
   ],
   "source": [
    "X"
   ]
  },
  {
   "cell_type": "code",
   "execution_count": null,
   "metadata": {
    "collapsed": true
   },
   "outputs": [],
   "source": []
  },
  {
   "cell_type": "code",
   "execution_count": null,
   "metadata": {
    "collapsed": true
   },
   "outputs": [],
   "source": []
  },
  {
   "cell_type": "code",
   "execution_count": 57,
   "metadata": {
    "collapsed": true
   },
   "outputs": [],
   "source": [
    "switzerland_coord = [46.765213, 8.252444]\n",
    "town_geo_path = r'data/switzerland_borders/admin_level_8.geojson'\n",
    "geo_json_data = json.load(open(town_geo_path, encoding=\"utf8\"))"
   ]
  },
  {
   "cell_type": "code",
   "execution_count": 58,
   "metadata": {
    "collapsed": true
   },
   "outputs": [],
   "source": [
    "color_list = ['#ff0000' , '#00ff00' , '#0000ff' , '#ffff00' , '#ff00ff' , '#00ffff'  , '#000000']\n"
   ]
  },
  {
   "cell_type": "code",
   "execution_count": 59,
   "metadata": {
    "collapsed": true
   },
   "outputs": [],
   "source": [
    "def style_function(feature):\n",
    "    #print(feature['name'])\n",
    "    language = languages_series.get(feature['name'], None)\n",
    "    return {\n",
    "        'fillOpacity': 0.5,\n",
    "        'weight': 0,\n",
    "        'fillColor':  color_language(language)\n",
    "    }\n",
    "\n",
    "def draw_map_kmeans (n_clusters) :\n",
    "    kmeans_res = KMeans(n_clusters=n_clusters, random_state=0).fit(X)\n",
    "    groups = kmeans_res.labels_\n",
    "    \n",
    "    centers = kmeans_res.cluster_centers_\n",
    "    print( [ [ np.linalg.norm(x-y) for y in centers] for x in centers])\n",
    "    \n",
    "    to_map = pd.DataFrame({'Commune' : commune_list , 'Group' : groups})\n",
    "    \n",
    "    map1 = folium.Map(location=switzerland_coord, zoom_start=8)\n",
    "    map1.choropleth(geo_data = geo_json_data, \\\n",
    "                                    data = to_map, \\\n",
    "                                    columns = ['Commune', 'Group'], \\\n",
    "                                    key_on = 'feature.name', \\\n",
    "                                    fill_color = 'RdYlGn', \\\n",
    "                                     fill_opacity = 0.7, \\\n",
    "                                    line_opacity = 0.2, \\\n",
    "                                    legend_name = 'group')\n",
    "    \n",
    "    return map1"
   ]
  },
  {
   "cell_type": "code",
   "execution_count": 60,
   "metadata": {},
   "outputs": [
    {
     "name": "stdout",
     "output_type": "stream",
     "text": [
      "[[0.0, 208.67401237835256], [208.67401237835256, 0.0]]\n",
      "[[0.0, 144.47986356124335, 196.43007419689584], [144.47986356124335, 0.0, 247.33874679188321], [196.43007419689584, 247.33874679188321, 0.0]]\n",
      "[[0.0, 221.59382027546033, 236.36037086236308, 193.87074264647023], [221.59382027546033, 0.0, 247.64281574780983, 207.85672978130719], [236.36037086236308, 247.64281574780983, 0.0, 141.34595602506744], [193.87074264647023, 207.85672978130719, 141.34595602506744, 0.0]]\n",
      "[[0.0, 275.89090092058177, 215.67520469036879, 242.72212200864686, 141.06638785088913], [275.89090092058177, 0.0, 140.64525255314484, 237.04607787057083, 222.98561992569211], [215.67520469036879, 140.64525255314484, 0.0, 194.22622625708948, 221.63966288565692], [242.72212200864686, 237.04607787057083, 194.22622625708948, 0.0, 214.700838379114], [141.06638785088913, 222.98561992569211, 221.63966288565692, 214.700838379114, 0.0]]\n"
     ]
    }
   ],
   "source": [
    "for i in range (2,6) :  \n",
    "    draw_map_kmeans(i).save('data/map_ml/kmeans'+str(i)+'.html')"
   ]
  },
  {
   "cell_type": "code",
   "execution_count": 62,
   "metadata": {
    "collapsed": true
   },
   "outputs": [],
   "source": [
    "def draw_map_DBSCAN (X) : \n",
    "    min_samples = 20\n",
    "\n",
    "    X_array = [ np.array(x_) for x_ in X]\n",
    "    range_X = range(len(X))\n",
    "    Xmeans = np.mean([ np.mean(\\\n",
    "                            np.sort([np.linalg.norm(X_array[x]-X_array[y]) \\\n",
    "                             for x in range_X  if x!=y])[:(min_samples-1)] \\\n",
    "                           )\\\n",
    "                   for y in range_X ] )\n",
    "    groups =  DBSCAN(eps=Xmeans, min_samples=min_samples).fit(X).labels_\n",
    "\n",
    "    \n",
    "  \n",
    "    \n",
    "    to_map = pd.DataFrame({'Commune' : commune_list , 'Group' : groups})\n",
    "    \n",
    "    map1 = folium.Map(location=switzerland_coord, zoom_start=8)\n",
    "    map1.choropleth(geo_data = geo_json_data, \\\n",
    "                                    data = to_map, \\\n",
    "                                    columns = ['Commune', 'Group'], \\\n",
    "                                    key_on = 'feature.name', \\\n",
    "                                    fill_color = 'RdYlGn', \\\n",
    "                                     fill_opacity = 0.7, \\\n",
    "                                    line_opacity = 0.2, \\\n",
    "                                    legend_name = 'group')\n",
    "    \n",
    "    return map1"
   ]
  },
  {
   "cell_type": "code",
   "execution_count": 63,
   "metadata": {
    "collapsed": true
   },
   "outputs": [],
   "source": [
    "draw_map_DBSCAN (X).save('data/map_ml/DBSCAN.html')"
   ]
  },
  {
   "cell_type": "code",
   "execution_count": null,
   "metadata": {
    "collapsed": true
   },
   "outputs": [],
   "source": []
  }
 ],
 "metadata": {
  "kernelspec": {
   "display_name": "Python 3",
   "language": "python",
   "name": "python3"
  },
  "language_info": {
   "codemirror_mode": {
    "name": "ipython",
    "version": 3
   },
   "file_extension": ".py",
   "mimetype": "text/x-python",
   "name": "python",
   "nbconvert_exporter": "python",
   "pygments_lexer": "ipython3",
   "version": "3.6.2"
  }
 },
 "nbformat": 4,
 "nbformat_minor": 2
}
