{
 "cells": [
  {
   "cell_type": "code",
   "execution_count": 1,
   "metadata": {},
   "outputs": [],
   "source": [
    "import pandas as pd\n",
    "import numpy as np\n",
    "from difflib import SequenceMatcher\n",
    "import json\n",
    "import folium\n",
    "from sklearn.cluster import KMeans, DBSCAN"
   ]
  },
  {
   "cell_type": "code",
   "execution_count": 2,
   "metadata": {},
   "outputs": [],
   "source": [
    "# Read votation data\n",
    "df = pd.read_pickle(\"data/data.pkl\")"
   ]
  },
  {
   "cell_type": "code",
   "execution_count": 3,
   "metadata": {},
   "outputs": [
    {
     "data": {
      "text/html": [
       "<div>\n",
       "<style>\n",
       "    .dataframe thead tr:only-child th {\n",
       "        text-align: right;\n",
       "    }\n",
       "\n",
       "    .dataframe thead th {\n",
       "        text-align: left;\n",
       "    }\n",
       "\n",
       "    .dataframe tbody tr th {\n",
       "        vertical-align: top;\n",
       "    }\n",
       "</style>\n",
       "<table border=\"1\" class=\"dataframe\">\n",
       "  <thead>\n",
       "    <tr style=\"text-align: right;\">\n",
       "      <th></th>\n",
       "      <th>Commune</th>\n",
       "      <th>Votation</th>\n",
       "      <th>Electeurs inscrits</th>\n",
       "      <th>Bulletins rentrés</th>\n",
       "      <th>Participation en %</th>\n",
       "      <th>Bulletins valables</th>\n",
       "      <th>Oui</th>\n",
       "      <th>Non</th>\n",
       "      <th>Oui en %</th>\n",
       "      <th>District</th>\n",
       "      <th>Canton</th>\n",
       "      <th>Pays</th>\n",
       "    </tr>\n",
       "  </thead>\n",
       "  <tbody>\n",
       "    <tr>\n",
       "      <th>0</th>\n",
       "      <td>Aeugst am Albis</td>\n",
       "      <td>29.11.1998 Initiative Droleg</td>\n",
       "      <td>1070.0</td>\n",
       "      <td>487.0</td>\n",
       "      <td>45.5</td>\n",
       "      <td>478.0</td>\n",
       "      <td>167.0</td>\n",
       "      <td>311.0</td>\n",
       "      <td>34.9</td>\n",
       "      <td>Affoltern</td>\n",
       "      <td>Zürich</td>\n",
       "      <td>Suisse</td>\n",
       "    </tr>\n",
       "    <tr>\n",
       "      <th>1</th>\n",
       "      <td>Aeugst am Albis</td>\n",
       "      <td>14.06.2015 Initiative sur les bourses d'études</td>\n",
       "      <td>1380.0</td>\n",
       "      <td>706.0</td>\n",
       "      <td>51.2</td>\n",
       "      <td>695.0</td>\n",
       "      <td>186.0</td>\n",
       "      <td>509.0</td>\n",
       "      <td>26.8</td>\n",
       "      <td>Affoltern</td>\n",
       "      <td>Zürich</td>\n",
       "      <td>Suisse</td>\n",
       "    </tr>\n",
       "    <tr>\n",
       "      <th>2</th>\n",
       "      <td>Aeugst am Albis</td>\n",
       "      <td>25.09.2016 Loi fédérale sur le renseignement</td>\n",
       "      <td>1400.0</td>\n",
       "      <td>670.0</td>\n",
       "      <td>47.9</td>\n",
       "      <td>659.0</td>\n",
       "      <td>417.0</td>\n",
       "      <td>242.0</td>\n",
       "      <td>63.3</td>\n",
       "      <td>Affoltern</td>\n",
       "      <td>Zürich</td>\n",
       "      <td>Suisse</td>\n",
       "    </tr>\n",
       "    <tr>\n",
       "      <th>3</th>\n",
       "      <td>Aeugst am Albis</td>\n",
       "      <td>03.03.1991 Encouragement des transports publics</td>\n",
       "      <td>835.0</td>\n",
       "      <td>321.0</td>\n",
       "      <td>38.4</td>\n",
       "      <td>312.0</td>\n",
       "      <td>128.0</td>\n",
       "      <td>184.0</td>\n",
       "      <td>41.0</td>\n",
       "      <td>Affoltern</td>\n",
       "      <td>Zürich</td>\n",
       "      <td>Suisse</td>\n",
       "    </tr>\n",
       "    <tr>\n",
       "      <th>4</th>\n",
       "      <td>Aeugst am Albis</td>\n",
       "      <td>12.02.2017 Réforme de l'imposition des entrepr...</td>\n",
       "      <td>1395.0</td>\n",
       "      <td>759.0</td>\n",
       "      <td>54.4</td>\n",
       "      <td>750.0</td>\n",
       "      <td>318.0</td>\n",
       "      <td>432.0</td>\n",
       "      <td>42.4</td>\n",
       "      <td>Affoltern</td>\n",
       "      <td>Zürich</td>\n",
       "      <td>Suisse</td>\n",
       "    </tr>\n",
       "  </tbody>\n",
       "</table>\n",
       "</div>"
      ],
      "text/plain": [
       "           Commune                                           Votation  \\\n",
       "0  Aeugst am Albis                       29.11.1998 Initiative Droleg   \n",
       "1  Aeugst am Albis     14.06.2015 Initiative sur les bourses d'études   \n",
       "2  Aeugst am Albis       25.09.2016 Loi fédérale sur le renseignement   \n",
       "3  Aeugst am Albis    03.03.1991 Encouragement des transports publics   \n",
       "4  Aeugst am Albis  12.02.2017 Réforme de l'imposition des entrepr...   \n",
       "\n",
       "   Electeurs inscrits  Bulletins rentrés  Participation en %  \\\n",
       "0              1070.0              487.0                45.5   \n",
       "1              1380.0              706.0                51.2   \n",
       "2              1400.0              670.0                47.9   \n",
       "3               835.0              321.0                38.4   \n",
       "4              1395.0              759.0                54.4   \n",
       "\n",
       "   Bulletins valables    Oui    Non  Oui en %   District  Canton    Pays  \n",
       "0               478.0  167.0  311.0      34.9  Affoltern  Zürich  Suisse  \n",
       "1               695.0  186.0  509.0      26.8  Affoltern  Zürich  Suisse  \n",
       "2               659.0  417.0  242.0      63.3  Affoltern  Zürich  Suisse  \n",
       "3               312.0  128.0  184.0      41.0  Affoltern  Zürich  Suisse  \n",
       "4               750.0  318.0  432.0      42.4  Affoltern  Zürich  Suisse  "
      ]
     },
     "execution_count": 3,
     "metadata": {},
     "output_type": "execute_result"
    }
   ],
   "source": [
    "df.head()"
   ]
  },
  {
   "cell_type": "code",
   "execution_count": 4,
   "metadata": {},
   "outputs": [
    {
     "name": "stdout",
     "output_type": "stream",
     "text": [
      "2240\n"
     ]
    }
   ],
   "source": [
    "commune_list = list(set(df['Commune'].values))\n",
    "print(len(commune_list))\n",
    "commune_dict = { val : idx for idx , val in enumerate(commune_list)   }\n",
    "\n",
    "votation_list = list(set(df['Votation'].values))\n",
    "votation_dict = { val : idx for idx , val in enumerate(votation_list)   }\n",
    "\n",
    "X = np.ones((len(commune_list) , len(votation_list) ) , dtype=float)"
   ]
  },
  {
   "cell_type": "code",
   "execution_count": null,
   "metadata": {},
   "outputs": [],
   "source": [
    "for x in df [['Commune','Votation','Oui en %']].fillna(50).values :\n",
    "    X [commune_dict[x[0]]][votation_dict[x[1]]] = x[2]"
   ]
  },
  {
   "cell_type": "code",
   "execution_count": null,
   "metadata": {},
   "outputs": [],
   "source": [
    "X"
   ]
  },
  {
   "cell_type": "code",
   "execution_count": null,
   "metadata": {},
   "outputs": [],
   "source": [
    "def get_good_date (x) :\n",
    "    date = x.split(' ') [0]\n",
    "    return '.'.join(date.split('.')[::-1])\n",
    "\n",
    "\n",
    "#return -1 if date1 < date2 return 1 if date1 > date2 return 0 if if date1 == date2\n",
    "def compare_date (date1 , date2) :\n",
    "    date1_s = date1.split('.')\n",
    "    date2_s = date2.split('.')\n",
    "    for i in range ( len(date1_s)) :\n",
    "        if ( int(date1_s[i]) < int(date2_s[i])) :\n",
    "            return -1\n",
    "        elif ( int(date1_s[i]) > int(date2_s[i])) :\n",
    "            return 1\n",
    "    return 0\n",
    "\n",
    "\n",
    "\n",
    "df['Date'] = df['Votation'].map( get_good_date)\n",
    "df.head()"
   ]
  },
  {
   "cell_type": "code",
   "execution_count": null,
   "metadata": {},
   "outputs": [],
   "source": [
    "test = df [ df ['Date'].map (lambda x : compare_date ( '2000.00.00' , x ) == -1 )]\n",
    "test"
   ]
  },
  {
   "cell_type": "code",
   "execution_count": null,
   "metadata": {},
   "outputs": [],
   "source": [
    "switzerland_coord = [46.765213, 8.252444]\n",
    "town_geo_path = r'data/switzerland_borders/municipalities.geojson'\n",
    "geo_json_data = json.load(open(town_geo_path, encoding=\"utf8\"))"
   ]
  },
  {
   "cell_type": "code",
   "execution_count": null,
   "metadata": {},
   "outputs": [],
   "source": [
    "color_list = ['#ff0000' , '#00ff00' , '#0000ff' , '#ffff00' , '#ff00ff' , '#00ffff'  , '#000000']\n"
   ]
  },
  {
   "cell_type": "code",
   "execution_count": null,
   "metadata": {},
   "outputs": [],
   "source": [
    "def style_function(feature):\n",
    "    #print(feature['name'])\n",
    "    language = languages_series.get(feature['name'], None)\n",
    "    return {\n",
    "        'fillOpacity': 0.5,\n",
    "        'weight': 0,\n",
    "        'fillColor':  color_language(language)\n",
    "    }\n",
    "\n",
    "def draw_map_kmeans (n_clusters , X ) :\n",
    "    kmeans_res = KMeans(n_clusters=n_clusters, random_state=0).fit(X)\n",
    "    groups = kmeans_res.labels_\n",
    "    \n",
    "    centers = kmeans_res.cluster_centers_\n",
    "    print( [ [ np.linalg.norm(x-y) for y in centers] for x in centers])\n",
    "    \n",
    "    to_map = pd.DataFrame({'Commune' : commune_list , 'Group' : groups})\n",
    "    \n",
    "    map1 = folium.Map(location=switzerland_coord, zoom_start=8)\n",
    "    map1.choropleth(geo_data = geo_json_data, \\\n",
    "                                    data = to_map, \\\n",
    "                                    columns = ['Commune', 'Group'], \\\n",
    "                                    key_on = 'feature.name', \\\n",
    "                                    fill_color = 'RdYlGn', \\\n",
    "                                     fill_opacity = 0.7, \\\n",
    "                                    line_opacity = 0.2, \\\n",
    "                                    legend_name = 'group')\n",
    "    \n",
    "    return map1"
   ]
  },
  {
   "cell_type": "code",
   "execution_count": null,
   "metadata": {},
   "outputs": [],
   "source": [
    "for i in range (2,6) :  \n",
    "    draw_map_kmeans(i,X).save('data/map_ml/kmeans'+str(i)+'.html')"
   ]
  },
  {
   "cell_type": "code",
   "execution_count": null,
   "metadata": {},
   "outputs": [],
   "source": [
    "def draw_map_DBSCAN (X) : \n",
    "    min_samples = 20\n",
    "\n",
    "    X_array = [ np.array(x_) for x_ in X]\n",
    "    range_X = range(len(X))\n",
    "    Xmeans = np.mean([ np.mean(\\\n",
    "                            np.sort([np.linalg.norm(X_array[x]-X_array[y]) \\\n",
    "                             for x in range_X  if x!=y])[:(min_samples-1)] \\\n",
    "                           )\\\n",
    "                   for y in range_X ] )\n",
    "    groups =  DBSCAN(eps=Xmeans, min_samples=min_samples).fit(X).labels_\n",
    "\n",
    "    \n",
    "  \n",
    "    \n",
    "    to_map = pd.DataFrame({'Commune' : commune_list , 'Group' : groups})\n",
    "    \n",
    "    map1 = folium.Map(location=switzerland_coord, zoom_start=8)\n",
    "    map1.choropleth(geo_data = geo_json_data, \\\n",
    "                                    data = to_map, \\\n",
    "                                    columns = ['Commune', 'Group'], \\\n",
    "                                    key_on = 'feature.name', \\\n",
    "                                    fill_color = 'RdYlGn', \\\n",
    "                                     fill_opacity = 0.7, \\\n",
    "                                    line_opacity = 0.2, \\\n",
    "                                    legend_name = 'group')\n",
    "    \n",
    "    return map1"
   ]
  },
  {
   "cell_type": "code",
   "execution_count": null,
   "metadata": {},
   "outputs": [],
   "source": [
    "draw_map_DBSCAN (X).save('data/map_ml/DBSCAN.html')"
   ]
  },
  {
   "cell_type": "code",
   "execution_count": null,
   "metadata": {},
   "outputs": [],
   "source": [
    "import networkx as nx\n",
    "G = nx.DiGraph()\n",
    "\n",
    "min_max =[0,0]\n",
    "max_value = -1\n",
    "\n",
    "\n",
    "X_len = len(X)\n",
    "for i in range (X_len) :\n",
    "    #G.add_edge('g',i , capacity =10^3000)\n",
    "    #G.add_edge(i,'e' , capacity = 10^3000)\n",
    "    for j in range (i+1,X_len) :\n",
    "        dist = 1-np.linalg.norm(X[i]/100-X[j]/100)\n",
    "        G.add_edge(i,j, capacity = dist)\n",
    "        G.add_edge(j,i, capacity = dist)\n",
    "        if ( dist > max_value) :\n",
    "            min_max = [i,j]\n",
    "G"
   ]
  },
  {
   "cell_type": "code",
   "execution_count": null,
   "metadata": {},
   "outputs": [],
   "source": [
    "cut_value, partition = nx.minimum_cut(G, min_max[0],min_max[1])\n",
    "reachable, non_reachable = partition"
   ]
  },
  {
   "cell_type": "code",
   "execution_count": null,
   "metadata": {},
   "outputs": [],
   "source": [
    "cut_value"
   ]
  },
  {
   "cell_type": "code",
   "execution_count": null,
   "metadata": {},
   "outputs": [],
   "source": [
    "len(reachable)\n"
   ]
  },
  {
   "cell_type": "code",
   "execution_count": null,
   "metadata": {},
   "outputs": [],
   "source": [
    "G = nx.DiGraph()\n",
    "G.add_edge('x','a', capacity = 3.0)\n",
    "G.add_edge('x','b', capacity = 1.0)\n",
    "G.add_edge('a','c', capacity = 3.0)\n",
    "G.add_edge('b','c', capacity = 5.0)\n",
    "G.add_edge('b','d', capacity = 4.0)\n",
    "G.add_edge('d','e', capacity = 2.0)\n",
    "G.add_edge('c','y', capacity = 2.0)\n",
    "G.add_edge('e','y', capacity = 3.0)\n",
    "\n",
    "\n",
    "cut_value, partition = nx.minimum_cut(G, 'x', 'y')\n",
    "reachable, non_reachable = partition\n",
    "reachable"
   ]
  },
  {
   "cell_type": "code",
   "execution_count": null,
   "metadata": {},
   "outputs": [],
   "source": []
  },
  {
   "cell_type": "markdown",
   "metadata": {},
   "source": [
    "ml for theme"
   ]
  },
  {
   "cell_type": "code",
   "execution_count": null,
   "metadata": {},
   "outputs": [],
   "source": [
    "data_t = pd.read_pickle('data/data_theme.pkl')\n",
    "data_t.head()"
   ]
  },
  {
   "cell_type": "code",
   "execution_count": null,
   "metadata": {},
   "outputs": [],
   "source": [
    "df.head()"
   ]
  },
  {
   "cell_type": "code",
   "execution_count": null,
   "metadata": {},
   "outputs": [],
   "source": [
    "data_theme = df.merge(data_t , on = 'Votation' )\n",
    "data_theme.head()"
   ]
  },
  {
   "cell_type": "code",
   "execution_count": null,
   "metadata": {},
   "outputs": [],
   "source": [
    "#data_bg = data by group\n",
    "for data_bg in data_theme[['Thématique','Votation','Commune','Oui en %']].groupby('Thématique') :\n",
    "    theme = data_bg[0]\n",
    "    data_bg = pd.DataFrame(data = data_bg[1])\n",
    "\n",
    "    votation_list_t = list(set(data_bg['Votation'].values))\n",
    "    votation_dict_t = { val : idx for idx , val in enumerate(votation_list_t)   }\n",
    "\n",
    "    Xt = np.ones((len(commune_list) , len(votation_list_t) ) , dtype=float)\n",
    "    \n",
    "    for x in data_bg [['Commune','Votation','Oui en %']].fillna(50).values :\n",
    "        Xt [commune_dict[x[0]]][votation_dict_t[x[1]]] = x[2]\n",
    "    draw_map_kmeans(2,Xt).save('data/maps_theme_ml/kmeans_'+theme+'.html') \n",
    "    "
   ]
  },
  {
   "cell_type": "code",
   "execution_count": null,
   "metadata": {},
   "outputs": [],
   "source": []
  }
 ],
 "metadata": {
  "kernelspec": {
   "display_name": "Python 3",
   "language": "python",
   "name": "python3"
  },
  "language_info": {
   "codemirror_mode": {
    "name": "ipython",
    "version": 3
   },
   "file_extension": ".py",
   "mimetype": "text/x-python",
   "name": "python",
   "nbconvert_exporter": "python",
   "pygments_lexer": "ipython3",
   "version": "3.6.3"
  }
 },
 "nbformat": 4,
 "nbformat_minor": 2
}
