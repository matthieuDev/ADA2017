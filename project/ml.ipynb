{
 "cells": [
  {
   "cell_type": "code",
   "execution_count": 12,
   "metadata": {},
   "outputs": [],
   "source": [
    "import pandas as pd\n",
    "import numpy as np\n",
    "from difflib import SequenceMatcher\n",
    "import json\n",
    "import folium\n",
    "from sklearn.cluster import KMeans, DBSCAN\n",
    "\n",
    "import matplotlib.pyplot as plt\n",
    "\n",
    "\n",
    "from sklearn.decomposition import PCA"
   ]
  },
  {
   "cell_type": "code",
   "execution_count": 13,
   "metadata": {},
   "outputs": [],
   "source": [
    "# Read votation data\n",
    "df = pd.read_pickle(\"data/data.pkl\")"
   ]
  },
  {
   "cell_type": "code",
   "execution_count": 14,
   "metadata": {},
   "outputs": [
    {
     "data": {
      "text/html": [
       "<div>\n",
       "<style scoped>\n",
       "    .dataframe tbody tr th:only-of-type {\n",
       "        vertical-align: middle;\n",
       "    }\n",
       "\n",
       "    .dataframe tbody tr th {\n",
       "        vertical-align: top;\n",
       "    }\n",
       "\n",
       "    .dataframe thead th {\n",
       "        text-align: right;\n",
       "    }\n",
       "</style>\n",
       "<table border=\"1\" class=\"dataframe\">\n",
       "  <thead>\n",
       "    <tr style=\"text-align: right;\">\n",
       "      <th></th>\n",
       "      <th>Commune</th>\n",
       "      <th>Votation</th>\n",
       "      <th>Electeurs inscrits</th>\n",
       "      <th>Bulletins rentrés</th>\n",
       "      <th>Participation en %</th>\n",
       "      <th>Bulletins valables</th>\n",
       "      <th>Oui</th>\n",
       "      <th>Non</th>\n",
       "      <th>Oui en %</th>\n",
       "      <th>District</th>\n",
       "      <th>Canton</th>\n",
       "    </tr>\n",
       "  </thead>\n",
       "  <tbody>\n",
       "    <tr>\n",
       "      <th>0</th>\n",
       "      <td>Aeugst am Albis</td>\n",
       "      <td>29.11.1998 Initiative Droleg</td>\n",
       "      <td>1070.0</td>\n",
       "      <td>487.0</td>\n",
       "      <td>45.5</td>\n",
       "      <td>478.0</td>\n",
       "      <td>167.0</td>\n",
       "      <td>311.0</td>\n",
       "      <td>34.9</td>\n",
       "      <td>Affoltern</td>\n",
       "      <td>Zürich</td>\n",
       "    </tr>\n",
       "    <tr>\n",
       "      <th>1</th>\n",
       "      <td>Aeugst am Albis</td>\n",
       "      <td>14.06.2015 Initiative sur les bourses d'études</td>\n",
       "      <td>1380.0</td>\n",
       "      <td>706.0</td>\n",
       "      <td>51.2</td>\n",
       "      <td>695.0</td>\n",
       "      <td>186.0</td>\n",
       "      <td>509.0</td>\n",
       "      <td>26.8</td>\n",
       "      <td>Affoltern</td>\n",
       "      <td>Zürich</td>\n",
       "    </tr>\n",
       "    <tr>\n",
       "      <th>2</th>\n",
       "      <td>Aeugst am Albis</td>\n",
       "      <td>25.09.2016 Loi fédérale sur le renseignement</td>\n",
       "      <td>1400.0</td>\n",
       "      <td>670.0</td>\n",
       "      <td>47.9</td>\n",
       "      <td>659.0</td>\n",
       "      <td>417.0</td>\n",
       "      <td>242.0</td>\n",
       "      <td>63.3</td>\n",
       "      <td>Affoltern</td>\n",
       "      <td>Zürich</td>\n",
       "    </tr>\n",
       "    <tr>\n",
       "      <th>3</th>\n",
       "      <td>Aeugst am Albis</td>\n",
       "      <td>03.03.1991 Encouragement des transports publics</td>\n",
       "      <td>835.0</td>\n",
       "      <td>321.0</td>\n",
       "      <td>38.4</td>\n",
       "      <td>312.0</td>\n",
       "      <td>128.0</td>\n",
       "      <td>184.0</td>\n",
       "      <td>41.0</td>\n",
       "      <td>Affoltern</td>\n",
       "      <td>Zürich</td>\n",
       "    </tr>\n",
       "    <tr>\n",
       "      <th>4</th>\n",
       "      <td>Aeugst am Albis</td>\n",
       "      <td>12.02.2017 Réforme de l'imposition des entrepr...</td>\n",
       "      <td>1395.0</td>\n",
       "      <td>759.0</td>\n",
       "      <td>54.4</td>\n",
       "      <td>750.0</td>\n",
       "      <td>318.0</td>\n",
       "      <td>432.0</td>\n",
       "      <td>42.4</td>\n",
       "      <td>Affoltern</td>\n",
       "      <td>Zürich</td>\n",
       "    </tr>\n",
       "  </tbody>\n",
       "</table>\n",
       "</div>"
      ],
      "text/plain": [
       "           Commune                                           Votation  \\\n",
       "0  Aeugst am Albis                       29.11.1998 Initiative Droleg   \n",
       "1  Aeugst am Albis     14.06.2015 Initiative sur les bourses d'études   \n",
       "2  Aeugst am Albis       25.09.2016 Loi fédérale sur le renseignement   \n",
       "3  Aeugst am Albis    03.03.1991 Encouragement des transports publics   \n",
       "4  Aeugst am Albis  12.02.2017 Réforme de l'imposition des entrepr...   \n",
       "\n",
       "   Electeurs inscrits  Bulletins rentrés  Participation en %  \\\n",
       "0              1070.0              487.0                45.5   \n",
       "1              1380.0              706.0                51.2   \n",
       "2              1400.0              670.0                47.9   \n",
       "3               835.0              321.0                38.4   \n",
       "4              1395.0              759.0                54.4   \n",
       "\n",
       "   Bulletins valables    Oui    Non  Oui en %   District  Canton  \n",
       "0               478.0  167.0  311.0      34.9  Affoltern  Zürich  \n",
       "1               695.0  186.0  509.0      26.8  Affoltern  Zürich  \n",
       "2               659.0  417.0  242.0      63.3  Affoltern  Zürich  \n",
       "3               312.0  128.0  184.0      41.0  Affoltern  Zürich  \n",
       "4               750.0  318.0  432.0      42.4  Affoltern  Zürich  "
      ]
     },
     "execution_count": 14,
     "metadata": {},
     "output_type": "execute_result"
    }
   ],
   "source": [
    "df.head()"
   ]
  },
  {
   "cell_type": "code",
   "execution_count": 15,
   "metadata": {},
   "outputs": [
    {
     "name": "stdout",
     "output_type": "stream",
     "text": [
      "2233\n"
     ]
    }
   ],
   "source": [
    "commune_list = list(set(df['Commune'].values))\n",
    "print(len(commune_list))\n",
    "commune_dict = { val : idx for idx , val in enumerate(commune_list)   }\n",
    "\n",
    "votation_list = list(set(df['Votation'].values))\n",
    "votation_dict = { val : idx for idx , val in enumerate(votation_list)   }\n",
    "\n",
    "X = np.ones((len(commune_list) , len(votation_list) ) , dtype=float)"
   ]
  },
  {
   "cell_type": "code",
   "execution_count": 16,
   "metadata": {},
   "outputs": [],
   "source": [
    "for x in df [['Commune','Votation','Oui en %']].fillna(50).values :\n",
    "    X [commune_dict[x[0]]][votation_dict[x[1]]] = x[2]"
   ]
  },
  {
   "cell_type": "code",
   "execution_count": 17,
   "metadata": {},
   "outputs": [
    {
     "data": {
      "text/plain": [
       "array([[ 45.2,  33.6,  52.3, ...,  48.6,  40.8,  53.2],\n",
       "       [ 49.5,  28.7,  37.1, ...,  46.6,  45.9,  60.6],\n",
       "       [ 46.2,  38.4,  38. , ...,  27. ,  41. ,  48.6],\n",
       "       ..., \n",
       "       [ 56.2,  30.6,  58.2, ...,  51.3,  41.8,  56.7],\n",
       "       [ 52.2,  51.8,  49.6, ...,  41. ,  48.7,  53.5],\n",
       "       [ 42.6,  44.7,  43.9, ...,  42.2,  40.1,  53.9]])"
      ]
     },
     "execution_count": 17,
     "metadata": {},
     "output_type": "execute_result"
    }
   ],
   "source": [
    "X"
   ]
  },
  {
   "cell_type": "code",
   "execution_count": null,
   "metadata": {},
   "outputs": [],
   "source": []
  },
  {
   "cell_type": "code",
   "execution_count": null,
   "metadata": {},
   "outputs": [],
   "source": []
  },
  {
   "cell_type": "code",
   "execution_count": 30,
   "metadata": {},
   "outputs": [],
   "source": [
    "switzerland_coord = [46.765213, 8.252444]\n",
    "town_geo_path = r'data/switzerland_borders/municipalities_no_urnes.geojson'\n",
    "geo_json_data = json.load(open(town_geo_path, encoding=\"utf8\"))"
   ]
  },
  {
   "cell_type": "code",
   "execution_count": 36,
   "metadata": {},
   "outputs": [],
   "source": [
    "color_list = ['#ff0000' , '#00ff00' , '#0000ff' , '#ffff00' , '#ff00ff' , '#00ffff' ]\n"
   ]
  },
  {
   "cell_type": "code",
   "execution_count": 32,
   "metadata": {},
   "outputs": [],
   "source": [
    "def draw_map_kmeans (n_clusters , X , file_PCA = None ) :\n",
    "    kmeans_res = KMeans(n_clusters=n_clusters, random_state=0).fit(X)\n",
    "    groups = kmeans_res.labels_\n",
    "    commune_to_group = pd.DataFrame({'Commune' : commune_list , 'Group' : groups})\n",
    "    commune_to_group = commune_to_group.set_index('Commune')['Group']\n",
    "    \n",
    "    \n",
    "    \n",
    "    plt.figure(100+n_clusters)\n",
    "    \n",
    "    \n",
    "    model_PCA = PCA ( n_components=2)\n",
    "    X_PCA = model_PCA.fit_transform(X)\n",
    "    \n",
    "    for current_group in range (n_clusters) :\n",
    "        group_y = [X_PCA[i] for i in range(len(X_PCA)) if groups[i] == current_group]\n",
    "        plt.scatter( [x[0] for x in group_y], [x[1] for x in group_y], c= color_list[current_group])\n",
    "    \n",
    "    if (file_PCA != None) :\n",
    "        plt.savefig(file_PCA+'PCAA_kmeans'+str(n_clusters)+'.png')\n",
    "    else :\n",
    "        print(plt.show())\n",
    "    plt.gcf().clear()\n",
    "    \n",
    "    \n",
    "    \n",
    "    def style_function_kmeans(feature):\n",
    "        group = commune_to_group.get(feature['name'], None)\n",
    "        if(group == None):\n",
    "            print(feature['name'])\n",
    "        return {\n",
    "            'fillOpacity': 1,\n",
    "            'weight': 0,\n",
    "            'fillColor': color_list[group]\n",
    "        }\n",
    "    \n",
    "    \n",
    "    \n",
    "    m = folium.Map(location=switzerland_coord, zoom_start=8)\n",
    "    \n",
    "    folium.GeoJson(\n",
    "        geo_json_data,\n",
    "        style_function=style_function_kmeans\n",
    "    ).add_to(m)\n",
    "\n",
    "    m.choropleth(geo_data=geo_json_data,\n",
    "             fill_opacity=0,\n",
    "             line_opacity=1)\n",
    "    \n",
    "    return m"
   ]
  },
  {
   "cell_type": "code",
   "execution_count": 33,
   "metadata": {},
   "outputs": [
    {
     "data": {
      "text/plain": [
       "<matplotlib.figure.Figure at 0x2908f9f0a58>"
      ]
     },
     "metadata": {},
     "output_type": "display_data"
    },
    {
     "data": {
      "text/plain": [
       "<matplotlib.figure.Figure at 0x2908be314a8>"
      ]
     },
     "metadata": {},
     "output_type": "display_data"
    },
    {
     "data": {
      "text/plain": [
       "<matplotlib.figure.Figure at 0x290826c5828>"
      ]
     },
     "metadata": {},
     "output_type": "display_data"
    },
    {
     "data": {
      "text/plain": [
       "<matplotlib.figure.Figure at 0x2908bfff0f0>"
      ]
     },
     "metadata": {},
     "output_type": "display_data"
    }
   ],
   "source": [
    "for i in range (2,6) :  \n",
    "    draw_map_kmeans(i,X, file_PCA='data/map_ml/').save('data/map_ml/kmeans'+str(i)+'.html')"
   ]
  },
  {
   "cell_type": "code",
   "execution_count": 37,
   "metadata": {},
   "outputs": [],
   "source": [
    "def draw_map_DBSCAN (X , file_PCA = None) : \n",
    "    min_samples = 20\n",
    "\n",
    "    X_array = [ np.array(x_) for x_ in X]\n",
    "    range_X = range(len(X))\n",
    "    Xmeans = np.mean([ np.mean(\\\n",
    "                            np.sort([np.linalg.norm(X_array[x]-X_array[y]) \\\n",
    "                             for x in range_X  if x!=y])[:(min_samples*2-1)] \\\n",
    "                           )\\\n",
    "                   for y in range_X ] )\n",
    "    groups =  DBSCAN(eps=Xmeans, min_samples=min_samples).fit(X).labels_\n",
    "    \n",
    "    \n",
    "    \n",
    "    \n",
    "    model_PCA = PCA ( n_components=2)\n",
    "    X_PCA = model_PCA.fit_transform(X)\n",
    "    \n",
    "    n_clusters = max(groups)+1\n",
    "    for current_group in range (-1,n_clusters) :\n",
    "        group_y = [X_PCA[i] for i in range(len(X_PCA)) if groups[i] == current_group]\n",
    "        plt.scatter( [x[0] for x in group_y], [x[1] for x in group_y], c= color_list[current_group])\n",
    "    \n",
    "    \n",
    "    if (file_PCA != None) :\n",
    "        \n",
    "        plt.savefig(file_PCA+'PCAA_DBSCAN.png')\n",
    "    else :\n",
    "        print(plt.show())\n",
    "        \n",
    "    plt.gcf().clear()\n",
    "    \n",
    "    \n",
    "    \n",
    "    \n",
    "    \n",
    "    commune_to_group = pd.DataFrame({'Commune' : commune_list , 'Group' : groups}).set_index('Commune')['Group']\n",
    "    \n",
    "    def style_function_DBSCAN(feature):\n",
    "        group = commune_to_group.get(feature['name'], None)\n",
    "        if(group == None):\n",
    "            print(feature['name'])\n",
    "        return {\n",
    "            'fillOpacity': 1,\n",
    "            'weight': 0,\n",
    "            'fillColor': color_list[group]\n",
    "        }\n",
    "    \n",
    "    \n",
    "    \n",
    "    m = folium.Map(location=switzerland_coord, zoom_start=8)\n",
    "    \n",
    "    folium.GeoJson(\n",
    "        geo_json_data,\n",
    "        style_function=style_function_DBSCAN\n",
    "    ).add_to(m)\n",
    "\n",
    "    m.choropleth(geo_data=geo_json_data,\n",
    "             fill_opacity=0,\n",
    "             line_opacity=1)\n",
    "    \n",
    "    return m"
   ]
  },
  {
   "cell_type": "code",
   "execution_count": 38,
   "metadata": {},
   "outputs": [
    {
     "data": {
      "text/plain": [
       "<matplotlib.figure.Figure at 0x2908259d128>"
      ]
     },
     "metadata": {},
     "output_type": "display_data"
    }
   ],
   "source": [
    "draw_map_DBSCAN (X,'data/map_ml/').save('data/map_ml/DBSCAN.html')"
   ]
  },
  {
   "cell_type": "code",
   "execution_count": null,
   "metadata": {},
   "outputs": [],
   "source": []
  },
  {
   "cell_type": "markdown",
   "metadata": {},
   "source": [
    "# ml for theme"
   ]
  },
  {
   "cell_type": "code",
   "execution_count": 39,
   "metadata": {},
   "outputs": [
    {
     "data": {
      "text/html": [
       "<div>\n",
       "<style scoped>\n",
       "    .dataframe tbody tr th:only-of-type {\n",
       "        vertical-align: middle;\n",
       "    }\n",
       "\n",
       "    .dataframe tbody tr th {\n",
       "        vertical-align: top;\n",
       "    }\n",
       "\n",
       "    .dataframe thead th {\n",
       "        text-align: right;\n",
       "    }\n",
       "</style>\n",
       "<table border=\"1\" class=\"dataframe\">\n",
       "  <thead>\n",
       "    <tr style=\"text-align: right;\">\n",
       "      <th></th>\n",
       "      <th>Votation</th>\n",
       "      <th>Thématique</th>\n",
       "    </tr>\n",
       "  </thead>\n",
       "  <tbody>\n",
       "    <tr>\n",
       "      <th>0</th>\n",
       "      <td>14.06.1981 Protection des consommateurs</td>\n",
       "      <td>Economie</td>\n",
       "    </tr>\n",
       "    <tr>\n",
       "      <th>1</th>\n",
       "      <td>29.11.1981 Régime financier</td>\n",
       "      <td>Finances publiques</td>\n",
       "    </tr>\n",
       "    <tr>\n",
       "      <th>2</th>\n",
       "      <td>14.06.1981 Egalité entre hommes et femmes</td>\n",
       "      <td>Politique sociale</td>\n",
       "    </tr>\n",
       "    <tr>\n",
       "      <th>3</th>\n",
       "      <td>06.06.1982 Code pénal suisse</td>\n",
       "      <td>Régime politique</td>\n",
       "    </tr>\n",
       "    <tr>\n",
       "      <th>4</th>\n",
       "      <td>06.06.1982 Loi sur les étrangers</td>\n",
       "      <td>Politique sociale</td>\n",
       "    </tr>\n",
       "  </tbody>\n",
       "</table>\n",
       "</div>"
      ],
      "text/plain": [
       "                                    Votation          Thématique\n",
       "0    14.06.1981 Protection des consommateurs            Economie\n",
       "1                29.11.1981 Régime financier  Finances publiques\n",
       "2  14.06.1981 Egalité entre hommes et femmes   Politique sociale\n",
       "3               06.06.1982 Code pénal suisse    Régime politique\n",
       "4           06.06.1982 Loi sur les étrangers   Politique sociale"
      ]
     },
     "execution_count": 39,
     "metadata": {},
     "output_type": "execute_result"
    }
   ],
   "source": [
    "data_t = pd.read_pickle('data/data_theme.pkl')\n",
    "data_t.head()"
   ]
  },
  {
   "cell_type": "code",
   "execution_count": 40,
   "metadata": {},
   "outputs": [
    {
     "data": {
      "text/html": [
       "<div>\n",
       "<style scoped>\n",
       "    .dataframe tbody tr th:only-of-type {\n",
       "        vertical-align: middle;\n",
       "    }\n",
       "\n",
       "    .dataframe tbody tr th {\n",
       "        vertical-align: top;\n",
       "    }\n",
       "\n",
       "    .dataframe thead th {\n",
       "        text-align: right;\n",
       "    }\n",
       "</style>\n",
       "<table border=\"1\" class=\"dataframe\">\n",
       "  <thead>\n",
       "    <tr style=\"text-align: right;\">\n",
       "      <th></th>\n",
       "      <th>Commune</th>\n",
       "      <th>Votation</th>\n",
       "      <th>Electeurs inscrits</th>\n",
       "      <th>Bulletins rentrés</th>\n",
       "      <th>Participation en %</th>\n",
       "      <th>Bulletins valables</th>\n",
       "      <th>Oui</th>\n",
       "      <th>Non</th>\n",
       "      <th>Oui en %</th>\n",
       "      <th>District</th>\n",
       "      <th>Canton</th>\n",
       "    </tr>\n",
       "  </thead>\n",
       "  <tbody>\n",
       "    <tr>\n",
       "      <th>0</th>\n",
       "      <td>Aeugst am Albis</td>\n",
       "      <td>29.11.1998 Initiative Droleg</td>\n",
       "      <td>1070.0</td>\n",
       "      <td>487.0</td>\n",
       "      <td>45.5</td>\n",
       "      <td>478.0</td>\n",
       "      <td>167.0</td>\n",
       "      <td>311.0</td>\n",
       "      <td>34.9</td>\n",
       "      <td>Affoltern</td>\n",
       "      <td>Zürich</td>\n",
       "    </tr>\n",
       "    <tr>\n",
       "      <th>1</th>\n",
       "      <td>Aeugst am Albis</td>\n",
       "      <td>14.06.2015 Initiative sur les bourses d'études</td>\n",
       "      <td>1380.0</td>\n",
       "      <td>706.0</td>\n",
       "      <td>51.2</td>\n",
       "      <td>695.0</td>\n",
       "      <td>186.0</td>\n",
       "      <td>509.0</td>\n",
       "      <td>26.8</td>\n",
       "      <td>Affoltern</td>\n",
       "      <td>Zürich</td>\n",
       "    </tr>\n",
       "    <tr>\n",
       "      <th>2</th>\n",
       "      <td>Aeugst am Albis</td>\n",
       "      <td>25.09.2016 Loi fédérale sur le renseignement</td>\n",
       "      <td>1400.0</td>\n",
       "      <td>670.0</td>\n",
       "      <td>47.9</td>\n",
       "      <td>659.0</td>\n",
       "      <td>417.0</td>\n",
       "      <td>242.0</td>\n",
       "      <td>63.3</td>\n",
       "      <td>Affoltern</td>\n",
       "      <td>Zürich</td>\n",
       "    </tr>\n",
       "    <tr>\n",
       "      <th>3</th>\n",
       "      <td>Aeugst am Albis</td>\n",
       "      <td>03.03.1991 Encouragement des transports publics</td>\n",
       "      <td>835.0</td>\n",
       "      <td>321.0</td>\n",
       "      <td>38.4</td>\n",
       "      <td>312.0</td>\n",
       "      <td>128.0</td>\n",
       "      <td>184.0</td>\n",
       "      <td>41.0</td>\n",
       "      <td>Affoltern</td>\n",
       "      <td>Zürich</td>\n",
       "    </tr>\n",
       "    <tr>\n",
       "      <th>4</th>\n",
       "      <td>Aeugst am Albis</td>\n",
       "      <td>12.02.2017 Réforme de l'imposition des entrepr...</td>\n",
       "      <td>1395.0</td>\n",
       "      <td>759.0</td>\n",
       "      <td>54.4</td>\n",
       "      <td>750.0</td>\n",
       "      <td>318.0</td>\n",
       "      <td>432.0</td>\n",
       "      <td>42.4</td>\n",
       "      <td>Affoltern</td>\n",
       "      <td>Zürich</td>\n",
       "    </tr>\n",
       "  </tbody>\n",
       "</table>\n",
       "</div>"
      ],
      "text/plain": [
       "           Commune                                           Votation  \\\n",
       "0  Aeugst am Albis                       29.11.1998 Initiative Droleg   \n",
       "1  Aeugst am Albis     14.06.2015 Initiative sur les bourses d'études   \n",
       "2  Aeugst am Albis       25.09.2016 Loi fédérale sur le renseignement   \n",
       "3  Aeugst am Albis    03.03.1991 Encouragement des transports publics   \n",
       "4  Aeugst am Albis  12.02.2017 Réforme de l'imposition des entrepr...   \n",
       "\n",
       "   Electeurs inscrits  Bulletins rentrés  Participation en %  \\\n",
       "0              1070.0              487.0                45.5   \n",
       "1              1380.0              706.0                51.2   \n",
       "2              1400.0              670.0                47.9   \n",
       "3               835.0              321.0                38.4   \n",
       "4              1395.0              759.0                54.4   \n",
       "\n",
       "   Bulletins valables    Oui    Non  Oui en %   District  Canton  \n",
       "0               478.0  167.0  311.0      34.9  Affoltern  Zürich  \n",
       "1               695.0  186.0  509.0      26.8  Affoltern  Zürich  \n",
       "2               659.0  417.0  242.0      63.3  Affoltern  Zürich  \n",
       "3               312.0  128.0  184.0      41.0  Affoltern  Zürich  \n",
       "4               750.0  318.0  432.0      42.4  Affoltern  Zürich  "
      ]
     },
     "execution_count": 40,
     "metadata": {},
     "output_type": "execute_result"
    }
   ],
   "source": [
    "df.head()"
   ]
  },
  {
   "cell_type": "code",
   "execution_count": 41,
   "metadata": {},
   "outputs": [
    {
     "data": {
      "text/html": [
       "<div>\n",
       "<style scoped>\n",
       "    .dataframe tbody tr th:only-of-type {\n",
       "        vertical-align: middle;\n",
       "    }\n",
       "\n",
       "    .dataframe tbody tr th {\n",
       "        vertical-align: top;\n",
       "    }\n",
       "\n",
       "    .dataframe thead th {\n",
       "        text-align: right;\n",
       "    }\n",
       "</style>\n",
       "<table border=\"1\" class=\"dataframe\">\n",
       "  <thead>\n",
       "    <tr style=\"text-align: right;\">\n",
       "      <th></th>\n",
       "      <th>Commune</th>\n",
       "      <th>Votation</th>\n",
       "      <th>Electeurs inscrits</th>\n",
       "      <th>Bulletins rentrés</th>\n",
       "      <th>Participation en %</th>\n",
       "      <th>Bulletins valables</th>\n",
       "      <th>Oui</th>\n",
       "      <th>Non</th>\n",
       "      <th>Oui en %</th>\n",
       "      <th>District</th>\n",
       "      <th>Canton</th>\n",
       "      <th>Thématique</th>\n",
       "    </tr>\n",
       "  </thead>\n",
       "  <tbody>\n",
       "    <tr>\n",
       "      <th>0</th>\n",
       "      <td>Aeugst am Albis</td>\n",
       "      <td>29.11.1998 Initiative Droleg</td>\n",
       "      <td>1070.0</td>\n",
       "      <td>487.0</td>\n",
       "      <td>45.5</td>\n",
       "      <td>478.0</td>\n",
       "      <td>167.0</td>\n",
       "      <td>311.0</td>\n",
       "      <td>34.9</td>\n",
       "      <td>Affoltern</td>\n",
       "      <td>Zürich</td>\n",
       "      <td>Politique sociale</td>\n",
       "    </tr>\n",
       "    <tr>\n",
       "      <th>1</th>\n",
       "      <td>Affoltern am Albis</td>\n",
       "      <td>29.11.1998 Initiative Droleg</td>\n",
       "      <td>5729.0</td>\n",
       "      <td>2286.0</td>\n",
       "      <td>39.9</td>\n",
       "      <td>2236.0</td>\n",
       "      <td>678.0</td>\n",
       "      <td>1558.0</td>\n",
       "      <td>30.3</td>\n",
       "      <td>Affoltern</td>\n",
       "      <td>Zürich</td>\n",
       "      <td>Politique sociale</td>\n",
       "    </tr>\n",
       "    <tr>\n",
       "      <th>2</th>\n",
       "      <td>Bonstetten</td>\n",
       "      <td>29.11.1998 Initiative Droleg</td>\n",
       "      <td>2596.0</td>\n",
       "      <td>1063.0</td>\n",
       "      <td>40.9</td>\n",
       "      <td>1045.0</td>\n",
       "      <td>358.0</td>\n",
       "      <td>687.0</td>\n",
       "      <td>34.3</td>\n",
       "      <td>Affoltern</td>\n",
       "      <td>Zürich</td>\n",
       "      <td>Politique sociale</td>\n",
       "    </tr>\n",
       "    <tr>\n",
       "      <th>3</th>\n",
       "      <td>Hausen am Albis</td>\n",
       "      <td>29.11.1998 Initiative Droleg</td>\n",
       "      <td>2081.0</td>\n",
       "      <td>807.0</td>\n",
       "      <td>38.8</td>\n",
       "      <td>792.0</td>\n",
       "      <td>281.0</td>\n",
       "      <td>511.0</td>\n",
       "      <td>35.5</td>\n",
       "      <td>Affoltern</td>\n",
       "      <td>Zürich</td>\n",
       "      <td>Politique sociale</td>\n",
       "    </tr>\n",
       "    <tr>\n",
       "      <th>4</th>\n",
       "      <td>Hedingen</td>\n",
       "      <td>29.11.1998 Initiative Droleg</td>\n",
       "      <td>1858.0</td>\n",
       "      <td>810.0</td>\n",
       "      <td>43.6</td>\n",
       "      <td>791.0</td>\n",
       "      <td>246.0</td>\n",
       "      <td>545.0</td>\n",
       "      <td>31.1</td>\n",
       "      <td>Affoltern</td>\n",
       "      <td>Zürich</td>\n",
       "      <td>Politique sociale</td>\n",
       "    </tr>\n",
       "  </tbody>\n",
       "</table>\n",
       "</div>"
      ],
      "text/plain": [
       "              Commune                      Votation  Electeurs inscrits  \\\n",
       "0     Aeugst am Albis  29.11.1998 Initiative Droleg              1070.0   \n",
       "1  Affoltern am Albis  29.11.1998 Initiative Droleg              5729.0   \n",
       "2          Bonstetten  29.11.1998 Initiative Droleg              2596.0   \n",
       "3     Hausen am Albis  29.11.1998 Initiative Droleg              2081.0   \n",
       "4            Hedingen  29.11.1998 Initiative Droleg              1858.0   \n",
       "\n",
       "   Bulletins rentrés  Participation en %  Bulletins valables    Oui     Non  \\\n",
       "0              487.0                45.5               478.0  167.0   311.0   \n",
       "1             2286.0                39.9              2236.0  678.0  1558.0   \n",
       "2             1063.0                40.9              1045.0  358.0   687.0   \n",
       "3              807.0                38.8               792.0  281.0   511.0   \n",
       "4              810.0                43.6               791.0  246.0   545.0   \n",
       "\n",
       "   Oui en %   District  Canton         Thématique  \n",
       "0      34.9  Affoltern  Zürich  Politique sociale  \n",
       "1      30.3  Affoltern  Zürich  Politique sociale  \n",
       "2      34.3  Affoltern  Zürich  Politique sociale  \n",
       "3      35.5  Affoltern  Zürich  Politique sociale  \n",
       "4      31.1  Affoltern  Zürich  Politique sociale  "
      ]
     },
     "execution_count": 41,
     "metadata": {},
     "output_type": "execute_result"
    }
   ],
   "source": [
    "data_theme = df.merge(data_t , on = 'Votation' )\n",
    "data_theme.head()"
   ]
  },
  {
   "cell_type": "code",
   "execution_count": 42,
   "metadata": {},
   "outputs": [
    {
     "data": {
      "text/plain": [
       "<matplotlib.figure.Figure at 0x2908bfe58d0>"
      ]
     },
     "metadata": {},
     "output_type": "display_data"
    }
   ],
   "source": [
    "#data_bg = data by group\n",
    "for data_bg in data_theme[['Thématique','Votation','Commune','Oui en %']].groupby('Thématique') :\n",
    "    theme = data_bg[0]\n",
    "    data_bg = pd.DataFrame(data = data_bg[1])\n",
    "\n",
    "    votation_list_t = list(set(data_bg['Votation'].values))\n",
    "    votation_dict_t = { val : idx for idx , val in enumerate(votation_list_t)   }\n",
    "\n",
    "    Xt = np.ones((len(commune_list) , len(votation_list_t) ) , dtype=float)\n",
    "    \n",
    "    for x in data_bg [['Commune','Votation','Oui en %']].fillna(50).values :\n",
    "        Xt [commune_dict[x[0]]][votation_dict_t[x[1]]] = x[2]\n",
    "    draw_map_kmeans(2,Xt,'data/maps_theme_ml/'+theme).save('data/maps_theme_ml/kmeans_'+theme+'.html') \n",
    "    draw_map_DBSCAN (Xt,'data/maps_theme_ml/'+theme).save('data/maps_theme_ml/DBSCAN_'+theme+'.html')\n",
    "    "
   ]
  },
  {
   "cell_type": "code",
   "execution_count": null,
   "metadata": {},
   "outputs": [],
   "source": []
  },
  {
   "cell_type": "code",
   "execution_count": null,
   "metadata": {},
   "outputs": [],
   "source": []
  },
  {
   "cell_type": "markdown",
   "metadata": {},
   "source": [
    "# ML par partie"
   ]
  },
  {
   "cell_type": "code",
   "execution_count": null,
   "metadata": {},
   "outputs": [],
   "source": []
  }
 ],
 "metadata": {
  "kernelspec": {
   "display_name": "Python 3",
   "language": "python",
   "name": "python3"
  },
  "language_info": {
   "codemirror_mode": {
    "name": "ipython",
    "version": 3
   },
   "file_extension": ".py",
   "mimetype": "text/x-python",
   "name": "python",
   "nbconvert_exporter": "python",
   "pygments_lexer": "ipython3",
   "version": "3.6.1"
  }
 },
 "nbformat": 4,
 "nbformat_minor": 2
}
