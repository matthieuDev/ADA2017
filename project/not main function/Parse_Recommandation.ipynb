{
 "cells": [
  {
   "cell_type": "code",
   "execution_count": null,
   "metadata": {},
   "outputs": [],
   "source": [
    "import pandas as pd\n",
    "import numpy as np\n",
    "from difflib import SequenceMatcher\n",
    "import json\n",
    "import folium"
   ]
  },
  {
   "cell_type": "markdown",
   "metadata": {},
   "source": [
    "This part load the dataframe with the % of yes and clean the dataframe so that we have only the date in one column and another to have only the subject of the votation."
   ]
  },
  {
   "cell_type": "code",
   "execution_count": null,
   "metadata": {},
   "outputs": [],
   "source": [
    "#The dataframe with the votation data\n",
    "df = pd.read_pickle(\"data/data.pkl\")\n",
    "df['Date'] = df['Votation'].map(lambda x : x.split(' ')[0])\n",
    "#df['Votation'] = df['Votation'].map(lambda x : ' '.join(x.split(' ')[1:]))\n",
    "df.head()"
   ]
  },
  {
   "cell_type": "code",
   "execution_count": null,
   "metadata": {},
   "outputs": [],
   "source": [
    "#download all the page \n",
    "xls = pd.ExcelFile('data/Recommandations des partis.xls')\n",
    "#the dataframe to fill with the info of the recommandation\n",
    "recommend = pd.DataFrame()\n",
    "\n",
    "#for every page with information from 2017 to 1981  :\n",
    "for i in range ((2017 - 1981 + 1)) :\n",
    "    #get the page i\n",
    "    x = xls.parse(i)\n",
    "    #change the name of the columns so that they will be easier to use \n",
    "    x.columns = range(len(x.columns))\n",
    "    \n",
    "    #We will need the parties and the numero of the votation, for that we use the fact that the line that have the date \n",
    "    #always begin by 'Parti 1)' and that the no of votation is 2 lines later\n",
    "    base_nb = x[x.iloc[:, 0] == 'Parti 1)'].index[0]\n",
    "    \n",
    "    #We drop all the columns with only Nan\n",
    "    x = x.dropna(axis=1, how='all')\n",
    "\n",
    "    #concat the date, the No of votation and the conseil of vote using the fact that they are the only lines with Nan\n",
    "    recommend_inter = pd.concat([x.iloc[base_nb:base_nb + 1], x.iloc[base_nb + 2:base_nb + 3], x.dropna()]).transpose()\n",
    "    \n",
    "    #this part change the name of the party so that even if there is little change in the name  (like had a 3) to the name)\n",
    "    #we still have consistent name\n",
    "    recommend_inter.iloc[0, 2:] = recommend_inter.iloc[0, 2:].map(lambda x : x.split(' ')[0])    \n",
    "    \n",
    "    #change the name of the columns so that they will be easier to use\n",
    "    recommend_inter.columns = range(len(recommend_inter.columns))\n",
    "    \n",
    "    recommend_inter.iloc[:, 0] = recommend_inter.iloc[:, 0] + str(2017 - i)\n",
    "    # make sure that 'no ###' are  made into 'No ###'\n",
    "    recommend_inter.iloc[:, 1] = recommend_inter.iloc[:, 1].map(lambda x : x[0].upper() + x[1:], na_action='ignore')\n",
    "    \n",
    "    #get the lines that give the name of a votation knowing its No\n",
    "    propositions = x[x.iloc[:, 0].str.contains('No ').fillna(False)]\n",
    "    #change the name of the columns so that they will be easier to use\n",
    "    propositions.columns = range(len(propositions.columns))\n",
    "    \n",
    "    #The next part is transforming the No of votation into name of votation\n",
    "    \n",
    "    #in some sheet this information is on only 1 cell so we split the information in 2 clls like the rest of the sheets \n",
    "    if (propositions.iloc[:, 1].isnull()).all():\n",
    "        if (2017 - i == 1997):\n",
    "            propositions.iloc[:, 1] = propositions[0].map(lambda x : x.split(' ')[1])\n",
    "            propositions.iloc[:, 0] = propositions[0].map(lambda x : x.split(' ')[0].rstrip())\n",
    "        else:\n",
    "            propositions.iloc[:, 1] = propositions[0].map(lambda x : x.split(':')[1][1:])\n",
    "            propositions.iloc[:, 0] = propositions[0].map(lambda x : x.split(':')[0].rstrip())\n",
    "    \n",
    "    \n",
    "    dico_no_propos = propositions.dropna(1).set_index(0).to_dict()\n",
    "    \n",
    "    #some dico are inside a dictionarry {1:{true_dictionarry}}\n",
    "    if (dico_no_propos.get(1) == None) :\n",
    "        recommend_inter.iloc[:, 1] = recommend_inter.iloc[:, 1].map(dico_no_propos)\n",
    "    else :\n",
    "        recommend_inter.iloc[:, 1] = recommend_inter.iloc[:, 1].map(dico_no_propos[1])\n",
    "        \n",
    "    #rename column meaningfully\n",
    "    recommend_columns = ['Date', 'Votation'] + list(recommend_inter.iloc[0][2:])\n",
    "    recommend_inter.columns = recommend_columns\n",
    "    \n",
    "    #fill the date for the line that does not have it\n",
    "    recommend_inter['Date'] = recommend_inter['Date'].fillna(method='ffill')\n",
    "    #transpose so that we can join\n",
    "    recommend_inter = recommend_inter.transpose()\n",
    "    \n",
    "    #delete duplicate (in some sheet there is twice PST )\n",
    "    recommend_inter = recommend_inter.groupby(recommend_inter.index).first()\n",
    "    #join the 2 dataframe, the name of the column are not important\n",
    "    recommend = recommend.join(recommend_inter, how='outer', lsuffix='l', rsuffix='r')\n",
    "\n",
    "recommend = recommend.transpose()  \n",
    "\n",
    "#clean the dataframe \n",
    "recommend = recommend[~recommend.loc[:, 'Date'].str.contains('Parti 1').fillna(False)]\n",
    "recommend = recommend[~recommend['Votation'].isnull()]\n",
    "#create meaningfull index\n",
    "recommend.index = range(len(recommend.index))\n",
    "\n",
    "#transform the date into the same format than the main dataframe\n",
    "month_to_int = { \\\n",
    "    'janvier' : '01', \\\n",
    "    'février' : '02', \\\n",
    "    'févirer' : '02', \\\n",
    "    'mars' : '03', \\\n",
    "    'avril' : '04', \\\n",
    "    'mai' : '05', \\\n",
    "    'juin' : '06', \\\n",
    "    'juillet' : '07', \\\n",
    "    'aout' : '08', \\\n",
    "    'septembre' : '09', \\\n",
    "    'octobre' : '10', \\\n",
    "    'novembre' : '11', \\\n",
    "    'décembre' : '12' \\\n",
    "}\n",
    "\n",
    "def good_format_month (x) :\n",
    "    if '.' in x :\n",
    "        split_x = x.split('.')\n",
    "        return split_x[0].zfill(2) + '.' + split_x[1].zfill(2) + '.' + split_x[2][:4]\n",
    "    else :\n",
    "        return str(x.split(' ')[0]).zfill(2) + '.' +  month_to_int[str(x.split(' ')[1]) ] + '.' + x[-4:] \n",
    "\n",
    "recommend.loc[:, 'Date'] = recommend.loc[:, 'Date'].map(lambda x : good_format_month(x))\n",
    "\n",
    "recommend = recommend.loc[:, recommend.columns.drop_duplicates() ]\n",
    "#parties is the list of all the parties\n",
    "parties = list(recommend.columns.drop_duplicates())\n",
    "parties.remove('Date')\n",
    "parties.remove('Votation')\n",
    "parties.remove('Parti')\n",
    "\n",
    "recommend = recommend.loc[:, ['Date', 'Votation'] + parties]\n",
    "recommend.head()"
   ]
  },
  {
   "cell_type": "markdown",
   "metadata": {},
   "source": [
    "Change the value so that they are all uniform       \n",
    "a yes recommandation becomes 1     \n",
    "a no recommandation becomes -1   \n",
    "No data or no recommendation is 0"
   ]
  },
  {
   "cell_type": "code",
   "execution_count": null,
   "metadata": {},
   "outputs": [],
   "source": [
    "def translate_choice(x) :\n",
    "    if (x == 1 or str(x) == 'oui') :\n",
    "        return 1\n",
    "    elif (x == 2 or str(x) == 'non'):\n",
    "        return -1\n",
    "    else :\n",
    "        return 0\n",
    "\n",
    "good_recommend = recommend.copy() \n",
    "good_recommend.loc[:, parties] = good_recommend.loc[:, parties].applymap(lambda x : translate_choice(x))\n",
    "good_recommend"
   ]
  },
  {
   "cell_type": "markdown",
   "metadata": {},
   "source": [
    "We need to create a dictionarry to link the name of the votation in the recomendation dataframe and the vote dataframe.   \n",
    "The problem is that the name are very different, so to link one to another we need to group the votation of the 2 by date and for each date we compare all pair using SequenceMatch, we find the best match, we decide to link this pair together, we take out the 2 element from their respective list and we research a new maximum until there is no elemnt in one of the list.\n",
    "\n",
    "This method might create some imprecision but as a whole it is solid."
   ]
  },
  {
   "cell_type": "code",
   "execution_count": null,
   "metadata": {},
   "outputs": [],
   "source": [
    "dico_recom_vote = {}\n",
    "\n",
    "for date1, group1 in df[df['Commune'] == 'Aeugst am Albis'].groupby('Date'):\n",
    "    \n",
    "    for date2, group2 in good_recommend.groupby('Date'):\n",
    "        \n",
    "        if (date1 == date2) :\n",
    "            vot1 = list(group1['Votation']) \n",
    "            vot2 = list(group2['Votation'])\n",
    "            \n",
    "            while (len(vot1) > 0 and len(vot2) > 0):\n",
    "                max_v = -1\n",
    "                max_match = [0, 0]\n",
    "                \n",
    "                for elem1 in vot1:\n",
    "                    for elem2 in vot2:\n",
    "                        current_v = SequenceMatcher(None, elem1, elem2).ratio()\n",
    "                        \n",
    "                        if (current_v > max_v) :\n",
    "                            max_v = current_v\n",
    "                            max_match = [elem1, elem2]\n",
    "                            \n",
    "                dico_recom_vote[max_match[0]] = max_match[1]\n",
    "                dico_recom_vote[max_match[1]] = max_match[0]\n",
    "                vot1.remove(max_match[0])\n",
    "                vot2.remove(max_match[1])"
   ]
  },
  {
   "cell_type": "markdown",
   "metadata": {},
   "source": [
    "Create a recommandation dataframe with names corresponding to the ones in the main dataframe"
   ]
  },
  {
   "cell_type": "code",
   "execution_count": null,
   "metadata": {},
   "outputs": [],
   "source": [
    "final_recommand = good_recommend.copy()\n",
    "final_recommand['Votation'] = final_recommand['Votation'].map(dico_recom_vote)\n",
    "final_recommand.head()"
   ]
  },
  {
   "cell_type": "code",
   "execution_count": null,
   "metadata": {},
   "outputs": [],
   "source": [
    "final_recommand.to_pickle('data/data_Recommandation.pkl')"
   ]
  },
  {
   "cell_type": "code",
   "execution_count": null,
   "metadata": {},
   "outputs": [],
   "source": []
  }
 ],
 "metadata": {
  "kernelspec": {
   "display_name": "Python 3",
   "language": "python",
   "name": "python3"
  },
  "language_info": {
   "codemirror_mode": {
    "name": "ipython",
    "version": 3
   },
   "file_extension": ".py",
   "mimetype": "text/x-python",
   "name": "python",
   "nbconvert_exporter": "python",
   "pygments_lexer": "ipython3",
   "version": "3.6.1"
  }
 },
 "nbformat": 4,
 "nbformat_minor": 2
}
