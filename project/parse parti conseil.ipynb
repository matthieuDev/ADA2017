{
 "cells": [
  {
   "cell_type": "code",
   "execution_count": null,
   "metadata": {},
   "outputs": [],
   "source": [
    "import pandas as pd\n",
    "import numpy as np\n",
    "from difflib import SequenceMatcher\n",
    "import json\n",
    "import folium"
   ]
  },
  {
   "cell_type": "code",
   "execution_count": null,
   "metadata": {
    "scrolled": false
   },
   "outputs": [],
   "source": [
    "df = pd.read_pickle(\"data/data.pkl\")\n",
    "df['Date'] = df['Votation'].map(lambda x : x.split(' ')[0])\n",
    "df['Votation'] = df['Votation'].map(lambda x : ' '.join(x.split(' ')[1:]))\n",
    "df.head()"
   ]
  },
  {
   "cell_type": "code",
   "execution_count": null,
   "metadata": {},
   "outputs": [],
   "source": [
    "xls = pd.ExcelFile('data/Recommandations des partis.xls')\n",
    "nb_sheets = len(xls.sheet_names)\n",
    "recommand = pd.DataFrame()\n",
    "\n",
    "for i in range ((2017 - 1981 + 1)) :\n",
    "#for i in range (6,7) :\n",
    " \n",
    "    x = xls.parse(i)\n",
    "    x.columns = range(len(x.columns))\n",
    "    \n",
    "    base_nb = x[x.iloc[:, 0] == 'Parti 1)'].index[0]\n",
    "    \n",
    "\n",
    "    x = x.dropna(axis=1, how='all')\n",
    "\n",
    "    recommand_inter = pd.concat([x.iloc[base_nb:base_nb + 1], x.iloc[base_nb + 2:base_nb + 3], x.dropna()]).transpose()\n",
    "    \n",
    "    recommand_inter.iloc[0, 2:] = recommand_inter.iloc[0,2:].map(lambda x : x.split(' ')[0])    \n",
    "    \n",
    "    \n",
    "    recommand_inter.columns = range(len(recommand_inter.columns))\n",
    "    recommand_inter.iloc[:, 0] = recommand_inter.iloc[:, 0] + str(2017 - i)\n",
    "    \n",
    "    recommand_inter.iloc[:, 1] = recommand_inter.iloc[:, 1].map(lambda x : x[0].upper() + x[1:], \\\n",
    "                                                                  na_action='ignore')\n",
    "\n",
    "    propositions = x[x.iloc[:, 0].str.contains('No ').fillna(False)]\n",
    "    propositions.columns = range(len(propositions.columns))\n",
    "    \n",
    "    if (propositions.iloc[:, 1].isnull()).all():\n",
    "        if (2017 - i == 1997):\n",
    "            propositions.iloc[:, 1] = propositions[0].map(lambda x : x.split(' ')[1])\n",
    "            propositions.iloc[:, 0] = propositions[0].map(lambda x : x.split(' ')[0].rstrip())\n",
    "        else:\n",
    "            propositions.iloc[:, 1] = propositions[0].map(lambda x : x.split(':')[1][1:])\n",
    "            propositions.iloc[:, 0] = propositions[0].map(lambda x : x.split(':')[0].rstrip())\n",
    "    \n",
    "    dico_no_propos = propositions.dropna(1).set_index(0).to_dict()\n",
    "    \n",
    "    if (dico_no_propos.get(1) == None) :\n",
    "        recommand_inter.iloc[:, 1] = recommand_inter.iloc[:, 1].map(dico_no_propos)\n",
    "    else :\n",
    "        recommand_inter.iloc[:, 1] = recommand_inter.iloc[:, 1].map(dico_no_propos[1])\n",
    "        \n",
    "    recommand_columns = ['Date','Votation'] + list(recommand_inter.iloc[0][2:])\n",
    "    recommand_inter.columns = recommand_columns\n",
    "    recommand_inter['Date'] = recommand_inter['Date'].fillna(method='ffill')\n",
    "    recommand_inter = recommand_inter.transpose()\n",
    "    \n",
    "    recommand_inter = recommand_inter.groupby(recommand_inter.index).first()\n",
    "    recommand = recommand.join(recommand_inter, how='outer', lsuffix='l', rsuffix='r')\n",
    "\n",
    "recommand = recommand.transpose()  \n",
    "\n",
    "recommand.index = range(len(recommand.index))\n",
    "recommand = recommand[~recommand.loc[:, 'Date'].str.contains('Parti 1').fillna(False)]\n",
    "recommand.index = range(len(recommand.index))\n",
    "recommand = recommand[~recommand['Votation'].isnull()]\n",
    "#recommand = recommand[recommand_columns[1:]]\n",
    "\n",
    "month_to_int = { \\\n",
    "    'janvier' : '01', \\\n",
    "    'février' : '02', \\\n",
    "    'févirer' : '02', \\\n",
    "    'mars' : '03', \\\n",
    "    'avril' : '04', \\\n",
    "    'mai' : '05', \\\n",
    "    'juin' : '06', \\\n",
    "    'juillet' : '07', \\\n",
    "    'aout' : '08', \\\n",
    "    'septembre' : '09', \\\n",
    "    'octobre' : '10', \\\n",
    "    'novembre' : '11', \\\n",
    "    'décembre' : '12' \\\n",
    "}\n",
    "\n",
    "def good_format_month (x) :\n",
    "    if '.' in x :\n",
    "        split_x = x.split('.')\n",
    "        return split_x[0].zfill(2) + '.' + split_x[1].zfill(2) + '.' + split_x[2][:4]\n",
    "    else :\n",
    "        return str(x.split(' ')[0]).zfill(2) + '.' +  month_to_int[str(x.split(' ')[1]) ] + '.' + x[-4:] \n",
    "\n",
    "recommand.loc[:, 'Date'] = recommand.loc[:, 'Date'].map(lambda x : good_format_month(x))\n",
    "\n",
    "recommand = recommand.loc[:, recommand.columns.drop_duplicates() ]\n",
    "parties = list(recommand.columns.drop_duplicates())\n",
    "parties.remove('Date')\n",
    "parties.remove('Votation')\n",
    "parties.remove('Parti')\n",
    "\n",
    "recommand = recommand.loc[:, ['Date', 'Votation'] + parties]\n",
    "recommand"
   ]
  },
  {
   "cell_type": "code",
   "execution_count": null,
   "metadata": {},
   "outputs": [],
   "source": [
    "parties"
   ]
  },
  {
   "cell_type": "code",
   "execution_count": null,
   "metadata": {},
   "outputs": [],
   "source": [
    "recommand.columns.drop_duplicates()"
   ]
  },
  {
   "cell_type": "code",
   "execution_count": null,
   "metadata": {},
   "outputs": [],
   "source": [
    "def translate_choice(x) :\n",
    "    if (x == 1 or str(x) == 'oui') :\n",
    "        return 1\n",
    "    elif (x == 2 or str(x) == 'non'):\n",
    "        return -1\n",
    "    else :\n",
    "        return 0\n",
    "\n",
    "good_recommand = recommand.copy() \n",
    "good_recommand.loc[:, parties] = good_recommand.loc[:, parties].applymap(lambda x : translate_choice(x))\n",
    "good_recommand"
   ]
  },
  {
   "cell_type": "code",
   "execution_count": null,
   "metadata": {},
   "outputs": [],
   "source": [
    "good_recommand[good_recommand['Votation'].isnull()]"
   ]
  },
  {
   "cell_type": "code",
   "execution_count": null,
   "metadata": {},
   "outputs": [],
   "source": [
    "dico_recom_vote = {}\n",
    "\n",
    "for date1, group1 in df[df['Commune'] == 'Aeugst am Albis'].groupby('Date'):\n",
    "    for date2, group2 in good_recommand.groupby('Date'):\n",
    "        if (date1 == date2) :\n",
    "            vot1 = list(group1['Votation']) \n",
    "            vot2 = list(group2['Votation'])\n",
    "            while (len(vot1) > 0 and len(vot2) > 0) :\n",
    "                max_v = -1\n",
    "                max_match = [0, 0]\n",
    "                for elem1  in vot1 :\n",
    "                    for elem2 in  vot2 :\n",
    "                        current_v = SequenceMatcher(None, elem1, elem2).ratio()\n",
    "                        if(current_v > max_v) :\n",
    "                            max_v = current_v\n",
    "                            max_match=[elem1, elem2]\n",
    "                dico_recom_vote[max_match[0]] = max_match[1]\n",
    "                dico_recom_vote[max_match[1]] = max_match[0]\n",
    "                vot1.remove(max_match[0])\n",
    "                vot2.remove(max_match[1])\n",
    "            \n",
    "dico_recom_vote"
   ]
  },
  {
   "cell_type": "code",
   "execution_count": null,
   "metadata": {},
   "outputs": [],
   "source": [
    "recommand_to_join = good_recommand.copy()\n",
    "recommand_to_join['Votation'] = recommand_to_join['Votation'].map(dico_recom_vote)\n",
    "recommand_to_join.head()"
   ]
  },
  {
   "cell_type": "code",
   "execution_count": null,
   "metadata": {},
   "outputs": [],
   "source": [
    "switzerland_coord = [46.765213, 8.252444]\n",
    "town_geo_path = r'data/switzerland_borders/admin_level_8.geojson'\n",
    "geo_json_data = json.load(open(town_geo_path, encoding=\"utf8\"))\n",
    "commune = [x['name'] for x in geo_json_data['features']]\n",
    "\n",
    "to_map = df.merge(recommand_to_join.loc[:, ['Votation'] + parties], on='Votation')\n",
    "to_map = to_map[to_map['Commune'].isin(commune)]\n",
    "to_map.head()"
   ]
  },
  {
   "cell_type": "code",
   "execution_count": null,
   "metadata": {},
   "outputs": [],
   "source": [
    "for parti in parties :\n",
    "    current_to_map = to_map.loc[:, ['Commune', 'Oui en %', parti]]\n",
    "    current_to_map = current_to_map[current_to_map[parti] != 0]\n",
    "    current_to_map['Agreement'] = current_to_map[['Oui en %', parti]] \\\n",
    "        .apply(lambda x : x['Oui en %'] if x[parti] == 1 else 100 - x['Oui en %'], axis=1)\n",
    "    \n",
    "    current_to_map = current_to_map.groupby('Commune', as_index=False).mean()\n",
    "    \n",
    "    print(current_to_map[current_to_map[\"Agreement\"] == 50])\n",
    "    \n",
    "    map1 = folium.Map(location=switzerland_coord, zoom_start=8)\n",
    "    map1.choropleth(geo_data = geo_json_data, \\\n",
    "                    data = current_to_map, \\\n",
    "                    columns = ['Commune', 'Agreement'], \\\n",
    "                    key_on = 'feature.name', \\\n",
    "                    fill_color = 'RdYlGn', \\\n",
    "                    fill_opacity = 0.7, \\\n",
    "                    line_opacity = 0.2, \\\n",
    "                    legend_name = 'Agreement in % with ' + parti, \\\n",
    "                    threshold_scale = [0, 50, 50, 50, 50, 100])\n",
    "    \n",
    "    map1.save('map ' + parti + '.html')\n",
    "    print(map1)"
   ]
  },
  {
   "cell_type": "code",
   "execution_count": null,
   "metadata": {
    "collapsed": true
   },
   "outputs": [],
   "source": []
  }
 ],
 "metadata": {
  "kernelspec": {
   "display_name": "Python 3",
   "language": "python",
   "name": "python3"
  },
  "language_info": {
   "codemirror_mode": {
    "name": "ipython",
    "version": 3
   },
   "file_extension": ".py",
   "mimetype": "text/x-python",
   "name": "python",
   "nbconvert_exporter": "python",
   "pygments_lexer": "ipython3",
   "version": "3.6.1"
  }
 },
 "nbformat": 4,
 "nbformat_minor": 2
}
