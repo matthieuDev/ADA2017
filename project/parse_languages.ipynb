{
 "cells": [
  {
   "cell_type": "code",
   "execution_count": null,
   "metadata": {},
   "outputs": [],
   "source": [
    "import pandas as pd"
   ]
  },
  {
   "cell_type": "code",
   "execution_count": null,
   "metadata": {},
   "outputs": [],
   "source": [
    "languages = pd.read_excel('data/languages_2000.xlsx', skiprows=1, skip_footer=11)\n",
    "languages.drop(['Regions-ID'], axis=1, inplace=True)\n",
    "languages.head()"
   ]
  },
  {
   "cell_type": "code",
   "execution_count": null,
   "metadata": {},
   "outputs": [],
   "source": [
    "df_votation = pd.read_pickle('data/data.pkl')\n",
    "towns_votations = set(df_votation['Commune'])"
   ]
  },
  {
   "cell_type": "code",
   "execution_count": null,
   "metadata": {},
   "outputs": [],
   "source": [
    "towns_languages = set(languages['Regionsname'])"
   ]
  },
  {
   "cell_type": "code",
   "execution_count": null,
   "metadata": {},
   "outputs": [],
   "source": [
    "diff1 = towns_votations - towns_languages\n",
    "diff2 = towns_languages - towns_votations\n",
    "print(len(diff1), len(diff2))\n",
    "diff1"
   ]
  },
  {
   "cell_type": "markdown",
   "metadata": {},
   "source": [
    "### 100% match between towns in votations and towns in languages after a tough job!"
   ]
  },
  {
   "cell_type": "code",
   "execution_count": null,
   "metadata": {},
   "outputs": [],
   "source": [
    "df_votation"
   ]
  },
  {
   "cell_type": "code",
   "execution_count": null,
   "metadata": {
    "scrolled": false
   },
   "outputs": [],
   "source": [
    "#USED TO MATCH TOWNS IN VOTATIONS WITH TOWNS IN LANGUAGES \n",
    "\n",
    "#import difflib\n",
    "\n",
    "#for town in diff1:\n",
    "#    matches = difflib.get_close_matches(town, diff2, n=3, cutoff=0.5)\n",
    "#    print(town, '\\n', df_votation[df_votation['Commune'] == town]['Canton'].unique(),'\\n', matches, '\\n\\n')"
   ]
  },
  {
   "cell_type": "markdown",
   "metadata": {},
   "source": [
    "## Draw map languages"
   ]
  },
  {
   "cell_type": "code",
   "execution_count": null,
   "metadata": {},
   "outputs": [],
   "source": [
    "import json\n",
    "import folium"
   ]
  },
  {
   "cell_type": "code",
   "execution_count": null,
   "metadata": {},
   "outputs": [],
   "source": [
    "switzerland_coord = [46.765213, 8.252444]\n",
    "town_geo_path = r'data/switzerland_borders/municipalities.geojson'\n",
    "geo_json_data = json.load(open(town_geo_path, encoding=\"utf8\"))\n",
    "\n",
    "languages_series = languages.set_index('Regionsname')['Langue nationale dominante']"
   ]
  },
  {
   "cell_type": "code",
   "execution_count": null,
   "metadata": {
    "scrolled": false
   },
   "outputs": [],
   "source": [
    "def color_language(language):\n",
    "    if language == 'Allemand: forte':\n",
    "        return 'red'\n",
    "    elif language == 'Allemand: moyenne':\n",
    "        return 'lightcoral'\n",
    "    elif language == 'Français: forte':\n",
    "        return 'blue'\n",
    "    elif language == 'Français: moyenne':\n",
    "        return 'lightskyblue'\n",
    "    elif language == 'Italien: forte':\n",
    "        return 'limegreen'\n",
    "    elif language == 'Italien: moyenne':\n",
    "        return 'darkseagreen'\n",
    "    elif language == 'Romanche: forte':\n",
    "        return 'yellow'\n",
    "    elif language == 'Romanche: moyenne':\n",
    "        return 'khaki'\n",
    "    elif language == 'Pas de dominance nette':\n",
    "        return 'grey'\n",
    "    else:\n",
    "        raise ValueError('Language is in the dataset for each municipalies, then else should not occur.')\n",
    "        return '#00000000'"
   ]
  },
  {
   "cell_type": "code",
   "execution_count": null,
   "metadata": {},
   "outputs": [],
   "source": [
    "towns_json = [x['name'] for x in geo_json_data['features']]"
   ]
  },
  {
   "cell_type": "code",
   "execution_count": null,
   "metadata": {},
   "outputs": [],
   "source": [
    "import branca\n",
    "\n",
    "def style_function(feature):\n",
    "    language = languages_series.get(feature['name'], None)\n",
    "    if(language == None):\n",
    "        print(feature['name'])\n",
    "    return {\n",
    "        'fillOpacity': 1,\n",
    "        'weight': 0,\n",
    "        'fillColor': color_language(language)\n",
    "    }\n",
    "\n",
    "m = folium.Map(\n",
    "    location=switzerland_coord,\n",
    "    tiles=None,\n",
    "    zoom_start=8\n",
    ")\n",
    "\n",
    "folium.GeoJson(\n",
    "    geo_json_data,\n",
    "    style_function=style_function\n",
    ").add_to(m)\n",
    "\n",
    "m.choropleth(geo_data=geo_json_data,\n",
    "             fill_opacity=0,\n",
    "             line_opacity=1)\n",
    "\n",
    "m.save('data/map_language.html')"
   ]
  },
  {
   "cell_type": "code",
   "execution_count": null,
   "metadata": {},
   "outputs": [],
   "source": [
    "languages_series"
   ]
  },
  {
   "cell_type": "code",
   "execution_count": null,
   "metadata": {},
   "outputs": [],
   "source": []
  }
 ],
 "metadata": {
  "kernelspec": {
   "display_name": "Python 3",
   "language": "python",
   "name": "python3"
  },
  "language_info": {
   "codemirror_mode": {
    "name": "ipython",
    "version": 3
   },
   "file_extension": ".py",
   "mimetype": "text/x-python",
   "name": "python",
   "nbconvert_exporter": "python",
   "pygments_lexer": "ipython3",
   "version": "3.6.1"
  }
 },
 "nbformat": 4,
 "nbformat_minor": 2
}
