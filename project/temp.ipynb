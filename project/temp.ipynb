{
 "cells": [
  {
   "cell_type": "code",
   "execution_count": null,
   "metadata": {
    "collapsed": true
   },
   "outputs": [],
   "source": [
    "import pandas as pd\n",
    "import numpy as np"
   ]
  },
  {
   "cell_type": "code",
   "execution_count": null,
   "metadata": {
    "collapsed": true
   },
   "outputs": [],
   "source": [
    "# Read votation data\n",
    "df = pd.read_pickle(\"data/votations.pkl\")"
   ]
  },
  {
   "cell_type": "code",
   "execution_count": null,
   "metadata": {
    "collapsed": true
   },
   "outputs": [],
   "source": [
    "# Function that capitalizes the first letter in a given string\n",
    "def cap_first(s):\n",
    "    return s[0].capitalize() + s[1:]"
   ]
  },
  {
   "cell_type": "code",
   "execution_count": null,
   "metadata": {},
   "outputs": [],
   "source": [
    "# Create a dataframe with the indices of the votation data\n",
    "data = pd.DataFrame([x for x, _ in df.index.values]).drop_duplicates()\n",
    "\n",
    "# Rename the community column\n",
    "data.columns = [\"Commune\"]\n",
    "\n",
    "# Create columns for districts/cantons/countries\n",
    "data[\"District\"] = np.nan\n",
    "data[\"Canton\"] = np.nan\n",
    "data[\"Pays\"] = np.nan\n",
    "\n",
    "# Extract names of districts/cantons/countries\n",
    "data[\"Pays\"] = data[\"Commune\"].map(lambda x : x if x[0] != \">\" and x[0] != \"-\" and x[0] != \".\" else np.nan)\n",
    "data[\"Canton\"] = data[\"Commune\"].map(lambda x : x[2:] if x[0] == \"-\" else np.nan)\n",
    "data[\"District\"] = data[\"Commune\"].map(lambda x : x[3:] if x[0] == \">\" else np.nan)\n",
    "\n",
    "# Propagate names of districts/cantons/countries downwards\n",
    "data = data.fillna(method='ffill')\n",
    "\n",
    "# Remove lines that do not describe a community\n",
    "data = data[data[\"Commune\"].map(lambda x : x[0] == \".\")]\n",
    "\n",
    "# Clean community, canton and district names\n",
    "data[\"Commune\"] = data[\"Commune\"].map(lambda x : x[7:] if x[0] == \".\" else x)\n",
    "data[\"Commune\"] = data[\"Commune\"].map(lambda x : x.split(\" (\")[0])\n",
    "data[\"Canton\"] = data[\"Canton\"].map(lambda x : x if x is np.nan else x.split(\" /\")[0])\n",
    "data[\"District\"] = data[\"District\"].map(lambda x :\n",
    "                                        x if \\\n",
    "                                            \"Bezirk See\" in x else \\\n",
    "                                        \"\".join(x.split(\"'\")[1:]).strip() if \\\n",
    "                                            \"District d'\" in x or \\\n",
    "                                            \"District de l'\" in x else\n",
    "                                        cap_first(\" \".join(x.split(\" \")[2:])).strip() if \\\n",
    "                                            \"Arrondissement administratif\" in x or \\\n",
    "                                            \"District\" in x or \\\n",
    "                                            \"Canton\" in x or \\\n",
    "                                            \"Distretto di\" in x else \\\n",
    "                                        \" \".join(x.split(\" \")[1:]).strip() if \\\n",
    "                                            \"Verwaltungskreis\" in x or \\\n",
    "                                            \"Wahlkreis\" in x or \\\n",
    "                                            \"Kanton\" in x or \\\n",
    "                                            \"Bezirk\" in x or \\\n",
    "                                            \"Region\" in x \\\n",
    "                                        else x)\n",
    "\n",
    "data[\"District\"] = data[\"District\"].map(lambda x : \\\n",
    "                                        \"Obwald\" if x == \"Obwalden\" else \\\n",
    "                                        \"Nidwald\" if x == \"Nidwalden\" else \\\n",
    "                                        x)\n",
    "\n",
    "# Write correct district/canton/country data for foreign votes\n",
    "data[[\"District\", \"Canton\", \"Pays\"]] = data.apply(lambda x : pd.Series([\"-\", \"-\", \"Etranger\"]) if \\\n",
    "                                        \"-Ausland-\" in x[\"District\"] or \\\n",
    "                                        \" de l'étranger\" in x[\"District\"] or \\\n",
    "                                        \"-Korrespondenzweg\" in x[\"District\"] or \\\n",
    "                                        \"-autres\" in x[\"District\"] or \\\n",
    "                                        \"-voto per corrispondenza\" in x[\"District\"] \\\n",
    "                                      else pd.Series([x[\"District\"], x[\"Canton\"], x[\"Pays\"]]), axis=1)\n",
    "\n",
    "data.reset_index(drop=True)\n",
    "\n",
    "#NAMES NEED TO BE CLEANED AFTER MODIFYING THE PROPER DATA, OTHERWISE COMMUNITY NAMES WILL NOT MATCH\n",
    "#NO DISTRICTS FOR GENEVA, SCHAFFHAUSEN, APPENZELL INNERRHODEN, OBWALD AND NIDWALD"
   ]
  }
 ],
 "metadata": {
  "kernelspec": {
   "display_name": "Python 3",
   "language": "python",
   "name": "python3"
  },
  "language_info": {
   "codemirror_mode": {
    "name": "ipython",
    "version": 3
   },
   "file_extension": ".py",
   "mimetype": "text/x-python",
   "name": "python",
   "nbconvert_exporter": "python",
   "pygments_lexer": "ipython3",
   "version": "3.6.1"
  }
 },
 "nbformat": 4,
 "nbformat_minor": 2
}
